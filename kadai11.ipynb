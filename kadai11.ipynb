{
  "nbformat": 4,
  "nbformat_minor": 0,
  "metadata": {
    "colab": {
      "name": "kadai11.ipynb",
      "provenance": [],
      "collapsed_sections": [],
      "toc_visible": true,
      "include_colab_link": true
    },
    "kernelspec": {
      "name": "python3",
      "display_name": "Python 3"
    },
    "language_info": {
      "name": "python"
    }
  },
  "cells": [
    {
      "cell_type": "markdown",
      "metadata": {
        "id": "view-in-github",
        "colab_type": "text"
      },
      "source": [
        "<a href=\"https://colab.research.google.com/github/mitsugami/python_course/blob/main/kadai11.ipynb\" target=\"_parent\"><img src=\"https://colab.research.google.com/assets/colab-badge.svg\" alt=\"Open In Colab\"/></a>"
      ]
    },
    {
      "cell_type": "markdown",
      "metadata": {
        "id": "l-bYbmjqal79"
      },
      "source": [
        "#プログラミングⅠ演習 第11回課題<br>（matplotlibライブラリを使ったグラフ描画）\n",
        "\n",
        "\n",
        "教科書: \n",
        "* 11章：11.3節 (p.214-216)\n",
        "\n",
        "残念ながらこの教科書にはmatplotlibに関するがほとんどありません．この課題にしっかりと解説を加えていますので，しっかり読んで理解してください．また，以下のWebドキュメントも大いに参考になりますので，適宜参照してください．\n",
        "\n",
        "Webドキュメント:\n",
        "\n",
        "* 「Pythonプログラミング入門」-\n",
        "[簡単なデータの可視化](https://utokyo-ipp.github.io/appendix/3-visualization.html)\n",
        "\n",
        "* [matplotlib tutorial](https://matplotlib.org/stable/tutorials/introductory/pyplot.html)（英語）"
      ]
    },
    {
      "cell_type": "markdown",
      "metadata": {
        "id": "ncTgKpA4xFJo"
      },
      "source": [
        "なお，以降で【参考】と書かれている箇所は試験範囲とはしません．余裕の無い人は飛ばしてもらって構いません．余裕がある人や，余裕が無くても頑張りたい人は，是非読んでください．"
      ]
    },
    {
      "cell_type": "markdown",
      "metadata": {
        "id": "JgT9iFVYdpXk"
      },
      "source": [
        "---\n",
        "##1. matplotlibとは\n",
        "---\n"
      ]
    },
    {
      "cell_type": "markdown",
      "metadata": {
        "id": "h4wCqOTkd0is"
      },
      "source": [
        "Pythonでグラフを描く際に最もよく利用されるライブラリとして **matplotlib** （「マットプロットリブ」と読むのがおそらく一般的）があります．今回はこの matplotlib を使ったさまざまなグラフ描画について学びましょう．\n",
        "\n",
        "※matplotlib以外にもさまざまなグラフ描画用ライブラリがあります．興味がある人は [ここ](https://colab.research.google.com/drive/1Ki4Ko-EcRAhaGFJm03LM6kJxBCWVJIAP#scrollTo=KFUzXVx-bHL2&line=1&uniqifier=1) を見てください．"
      ]
    },
    {
      "cell_type": "markdown",
      "metadata": {
        "id": "yYSF_Jo1fe8i"
      },
      "source": [
        "---\n",
        "##2. グラフ描画の準備（matplotlibライブラリのインポート）\n",
        "---\n"
      ]
    },
    {
      "cell_type": "markdown",
      "metadata": {
        "id": "41yXL5WYm8Gt"
      },
      "source": [
        "### matplotlibのインポート"
      ]
    },
    {
      "cell_type": "markdown",
      "metadata": {
        "id": "yMffX9Qom_Xy"
      },
      "source": [
        "ライブラリであるmatplotlibをインポートするにはどう書くのでしたっけ？\n",
        "```\n",
        "import matplotlib\n",
        "```\n",
        "ですね．\n",
        "\n",
        "※ちなみに，matplotlibは**外部ライブラリ**と呼ばれるもので，math/random/calendarモジュールなどといった標準ライブラリとはちょっと扱いが異なります．詳しく知りたい人は [ここ](https://colab.research.google.com/drive/1Ki4Ko-EcRAhaGFJm03LM6kJxBCWVJIAP#scrollTo=8SOvqxiQm3rr&line=1&uniqifier=1) を読んでください．\n",
        "\n"
      ]
    },
    {
      "cell_type": "markdown",
      "metadata": {
        "id": "Z6VUjhOPWSii"
      },
      "source": [
        "しかし，matplotlibはいくつかのモジュールを含んだパッケージであり，ここではその1つである **pyplotモジュール** しか使いません．にも関わらず，matplotlibをまるまるインポートしてしまうと，pyplotモジュール内の関数 plot() や show() を呼ぶのに，以下のような面倒なコードを書かなければならなくなります．（ここではまだコードの意味は分からなくて構いません）"
      ]
    },
    {
      "cell_type": "code",
      "metadata": {
        "id": "KfD1kuknpvDP"
      },
      "source": [
        "import matplotlib\n",
        "matplotlib.pyplot.plot([1, 4, 9, 16])\n",
        "matplotlib.pyplot.show()"
      ],
      "execution_count": null,
      "outputs": []
    },
    {
      "cell_type": "markdown",
      "metadata": {
        "id": "DQbdpg6lq0Au"
      },
      "source": [
        "このように，いちいち ```matplotlib.pyplot.関数名()``` という書き方をしなければならないのはめんどくさすぎるので，それを避けるために通常は以下のような形でインポートします．第10回で学んだ，別名を使う方法（のちょっと発展版）です．\n",
        "```\n",
        "from matplotlib import pyplot as plt\n",
        "```\n",
        "あるいは\n",
        "```\n",
        "import matplotlib.pyplot as plt\n",
        "```"
      ]
    },
    {
      "cell_type": "markdown",
      "metadata": {
        "id": "AYKGFEWSrP9W"
      },
      "source": [
        "このいずれかの記述により，「**matplotlibパッケージの，pyplotモジュールのみをインポートして，それにpltという別名をつける**」ことになり，上で「めんどくさい」と言ったコードは以下のように簡単になります．"
      ]
    },
    {
      "cell_type": "code",
      "metadata": {
        "id": "xx2siy1Srgfv"
      },
      "source": [
        "import matplotlib.pyplot as plt\n",
        "plt.plot([1, 4, 9, 16])\n",
        "plt.show()"
      ],
      "execution_count": null,
      "outputs": []
    },
    {
      "cell_type": "markdown",
      "metadata": {
        "id": "CqSdUR79rmvq"
      },
      "source": [
        "結論としては，**matplotlibのpyplotでグラフを描くプログラムを書くときには，以下のいずれかの方法でインポートしましょう**，ということです．どちらかの書き方を覚えておきましょう．\n",
        "```\n",
        "from matplotlib import pyplot as plt\n",
        "```\n",
        "```\n",
        "import matplotlib.pyplot as plt\n",
        "```"
      ]
    },
    {
      "cell_type": "markdown",
      "metadata": {
        "id": "iiOTX9ihd1Wt"
      },
      "source": [
        "---\n",
        "##3. グラフ描画の基本\n",
        "---\n"
      ]
    },
    {
      "cell_type": "markdown",
      "metadata": {
        "id": "lOM6FM8wdvMT"
      },
      "source": [
        "では，以下では，matplotlib.pyplot を使ったグラフの描き方の基本を学びましょう．"
      ]
    },
    {
      "cell_type": "markdown",
      "metadata": {
        "id": "swsyj3l3dcTH"
      },
      "source": [
        "###1つの系列データからグラフを描く"
      ]
    },
    {
      "cell_type": "markdown",
      "metadata": {
        "id": "bh5ZdAgHtCSO"
      },
      "source": [
        "最もシンプルなグラフ描画コードは，以下のようなものです．**plot()関数**に1つのリストを引数として渡した後，**show()関数**で描画しています．"
      ]
    },
    {
      "cell_type": "code",
      "metadata": {
        "id": "qBta8wxWbOIJ"
      },
      "source": [
        "import matplotlib.pyplot as plt\n",
        "\n",
        "plt.plot([3, 8, 5 , 12])\n",
        "plt.show()"
      ],
      "execution_count": null,
      "outputs": []
    },
    {
      "cell_type": "markdown",
      "metadata": {
        "id": "_qhR48eAtSaV"
      },
      "source": [
        "このように**1つの数値リストのみ渡した場合は**，以下の表のように，これらは**Y軸（縦軸）の値として捉えられ**，X軸には0,1,2,...のように0から正の整数が順に割り当てられます．つまり，このグラフは，(0, 3), (1, 8), (2, 5), (3, 12) という4つの点を結ぶ折れ線グラフとして描画されます．\n",
        "\n",
        "|x|y|\n",
        "|---|---|\n",
        "|0|3|\n",
        "|1|8|\n",
        "|2|5|\n",
        "|3|12|\n"
      ]
    },
    {
      "cell_type": "markdown",
      "metadata": {
        "id": "FfKFsZhuxqja"
      },
      "source": [
        "###2つの系列データからグラフを描く"
      ]
    },
    {
      "cell_type": "markdown",
      "metadata": {
        "id": "HXzToH_runOe"
      },
      "source": [
        "一方，plot()関数に2つの数値リストを渡すと，**1つ目のリストがX軸の値**，**2つ目のリストがY軸の値**として扱われます．"
      ]
    },
    {
      "cell_type": "code",
      "metadata": {
        "id": "ReFBTmI5bboW"
      },
      "source": [
        "import matplotlib.pyplot as plt\n",
        "\n",
        "plt.plot([0, 1, 2, 3], [3, 8, 5, 12])\n",
        "plt.show()"
      ],
      "execution_count": null,
      "outputs": []
    },
    {
      "cell_type": "markdown",
      "metadata": {
        "id": "DlcYuFpUu50i"
      },
      "source": [
        "X軸の値のリストを省略できるなら書かないほうがいいじゃないかと思ってしまいそうですが，例えば，以下のようにX軸方向に等間隔でなかったり0から開始でない場合は，X座標も指定できないと困りますよね．"
      ]
    },
    {
      "cell_type": "code",
      "metadata": {
        "id": "tVckcb-ovPIg"
      },
      "source": [
        "import matplotlib.pyplot as plt\n",
        "\n",
        "plt.plot([1, 2, 3, 5], [3, 8, 5, 12])\n",
        "plt.show()"
      ],
      "execution_count": null,
      "outputs": []
    },
    {
      "cell_type": "markdown",
      "metadata": {
        "id": "poj2tw5IvS3h"
      },
      "source": [
        "ですので，基本的には**plot()関数は2つの数値リスト（ただし両者の要素数が同じでなければならない）を渡す**もの，と理解しておくのがいいでしょう．そして，「X軸の値が0,1,2,...である場合のみ，1つ目のリストが省略できる」と考えておきましょう．"
      ]
    },
    {
      "cell_type": "markdown",
      "metadata": {
        "id": "F9_8oHAYwDVn"
      },
      "source": [
        "ちなみに，plot()関数に渡すリストは，必ずしも引数のところで直書きする必要はなく，以下のように変数の形で渡すことがもちろん可能です．"
      ]
    },
    {
      "cell_type": "code",
      "metadata": {
        "id": "yXF8gcFsv7Jk"
      },
      "source": [
        "import matplotlib.pyplot as plt\n",
        "\n",
        "x = [1, 2, 3, 5]\n",
        "y = [3, 8, 5, 12]\n",
        "\n",
        "plt.plot(x, y)\n",
        "plt.show()"
      ],
      "execution_count": null,
      "outputs": []
    },
    {
      "cell_type": "markdown",
      "metadata": {
        "id": "LMZRh_LhwUXa"
      },
      "source": [
        "### 1つのグラフエリアに複数のグラフを描く"
      ]
    },
    {
      "cell_type": "markdown",
      "metadata": {
        "id": "FoMspoBLyOXE"
      },
      "source": [
        "下のコードのように，1つのグラフエリアに複数のグラフを描きたい場合は，**グラフの数だけplot()関数を呼びます**．グラフの本数に関わらず，**show()関数は1回だけ呼びます**．"
      ]
    },
    {
      "cell_type": "code",
      "metadata": {
        "id": "YGevZkiwc0Yy"
      },
      "source": [
        "import matplotlib.pyplot as plt\n",
        "\n",
        "x1 = [1, 2, 3, 4]\n",
        "y1 = [1, 4, 9, 16]\n",
        "x2 = [1, 2, 3, 4, 5]\n",
        "y2 = [6, 8, 7, 6, 5]\n",
        "\n",
        "plt.plot(x1, y1)\n",
        "plt.plot(x2, y2)\n",
        "plt.show()"
      ],
      "execution_count": null,
      "outputs": []
    },
    {
      "cell_type": "markdown",
      "metadata": {
        "id": "hlb7HK64TxYp"
      },
      "source": [
        "### 軸の値の範囲を変える"
      ]
    },
    {
      "cell_type": "markdown",
      "metadata": {
        "id": "0IpwRRPJTxYr"
      },
      "source": [
        "**xlim()**, **ylim()関数**でX, Y軸の値の下限値・上限値を指定することができます．xlim(), ylim() いずれか一方だけを呼んでも構いません．\n",
        "\n",
        "（以下はコード冒頭に ```import matplotlib.pyplot as plt``` が書かれている前提の書き方です）\n",
        "```\n",
        "plt.xlim( X軸下限値, X軸上限値 )\n",
        "```\n",
        "```\n",
        "plt.ylim( Y軸下限値, Y軸上限値 )\n",
        "```\n"
      ]
    },
    {
      "cell_type": "code",
      "metadata": {
        "id": "LKha86NBTxYs"
      },
      "source": [
        "import matplotlib.pyplot as plt\n",
        "\n",
        "plt.plot([1, 2, 3, 4], [1, 4, 9, 16])\n",
        "plt.xlim(0, 5)\n",
        "plt.ylim(0, 30)\n",
        "plt.show()"
      ],
      "execution_count": null,
      "outputs": []
    },
    {
      "cell_type": "markdown",
      "metadata": {
        "id": "DcxLhKDnTxYs"
      },
      "source": [
        "matplotlibでもExcelでも，軸の値の範囲を指定しなくても，データがすべてグラフ内におさまるように適当な範囲が自動設定されます．これは便利な一方で，グラフの意味合いが一切考慮されないため不自然だったり分かりにくいグラフになることがあります．思考停止して**自動設定に任せてしまうのではなく，「軸の値の範囲はこれで適切か？」と常に意識して，適宜修正する**ようにしましょう．"
      ]
    },
    {
      "cell_type": "markdown",
      "metadata": {
        "id": "et_D97EhxHBP"
      },
      "source": [
        "###【参考】折れ線グラフの見た目を変える\n"
      ]
    },
    {
      "cell_type": "markdown",
      "metadata": {
        "id": "FU6SRy6Zy9oT"
      },
      "source": [
        "折れ線グラフの線種・点種・色などを変更する方法については [ここ](https://colab.research.google.com/drive/1Ki4Ko-EcRAhaGFJm03LM6kJxBCWVJIAP#scrollTo=et_D97EhxHBP&line=2&uniqifier=1) にまとめました．興味がある人は見て勉強してください．"
      ]
    },
    {
      "cell_type": "markdown",
      "metadata": {
        "id": "h2H9rEPA7YGj"
      },
      "source": [
        "---\n",
        "##4. さまざまなグラフ\n",
        "---"
      ]
    },
    {
      "cell_type": "markdown",
      "metadata": {
        "id": "0nTlVaXWdHN5"
      },
      "source": [
        "###散布図"
      ]
    },
    {
      "cell_type": "markdown",
      "metadata": {
        "id": "Jbbqe7B1yYlL"
      },
      "source": [
        "2次元の点の分布を描画したいときに用います．plot()関数（折れ線グラフ）のかわりに **scatter()関数** を使います．引数は，X,Y軸にとる2つの系列リストです．\n",
        "\n",
        "下の例では (4, 10), (10, 3), (15, 1), (7, 18), (1, 9) の5点を散布図で描画しています．"
      ]
    },
    {
      "cell_type": "code",
      "metadata": {
        "id": "QMAAAEnTdEk5"
      },
      "source": [
        "import matplotlib.pyplot as plt\n",
        "\n",
        "x = [4, 10, 15, 19, 7, 1]\n",
        "y = [10, 3, 1, 15, 18, 9]\n",
        "\n",
        "plt.scatter(x, y)\n",
        "plt.show()"
      ],
      "execution_count": null,
      "outputs": []
    },
    {
      "cell_type": "markdown",
      "metadata": {
        "id": "6lmxfPvkU2rr"
      },
      "source": [
        "関連して，ランダムな点群を生成して散布図を描画するやり方も知っておきましょう．\n",
        "\n",
        "以下は，X,Y座標がいずれも0以上10未満の範囲でランダムな点を20点，散布図として表示するプログラムです．ランダム値のリストを作るのは第10回でやりましたね．"
      ]
    },
    {
      "cell_type": "code",
      "metadata": {
        "id": "8YHl9Y5QVG8a"
      },
      "source": [
        "import matplotlib.pyplot as plt\n",
        "import random as r\n",
        "\n",
        "x = [r.random()*10 for i in range(20)]\n",
        "y = [r.random()*10 for i in range(20)]\n",
        "\n",
        "plt.scatter(x, y)\n",
        "plt.show()"
      ],
      "execution_count": null,
      "outputs": []
    },
    {
      "cell_type": "markdown",
      "metadata": {
        "id": "txcIi98baFvv"
      },
      "source": [
        "上の例では，内包表記により20点分のX, Y座標をランダムに生成しています．内包表記ではなくfor文などで作ることももちろん可能です．"
      ]
    },
    {
      "cell_type": "markdown",
      "metadata": {
        "id": "eXBPCPq_dJ62"
      },
      "source": [
        "###棒グラフ"
      ]
    },
    {
      "cell_type": "markdown",
      "metadata": {
        "id": "77r0Ad-xbLAm"
      },
      "source": [
        "棒グラフには **bar()関数** を用います．引数として1つ/2つの系列を与えるのは折れ線グラフと同様です．"
      ]
    },
    {
      "cell_type": "code",
      "metadata": {
        "id": "l_LHeJv_dK9x"
      },
      "source": [
        "import matplotlib.pyplot as plt\n",
        "\n",
        "x = [1, 2, 3, 4]\n",
        "y = [10, 30, 40, 15]\n",
        "\n",
        "plt.bar(x, y)\n",
        "plt.show()"
      ],
      "execution_count": null,
      "outputs": []
    },
    {
      "cell_type": "markdown",
      "metadata": {
        "id": "gSt5hdFnoTrr"
      },
      "source": [
        "横軸は，数値でなくても構いません．"
      ]
    },
    {
      "cell_type": "code",
      "metadata": {
        "id": "fm7h6NlAoReF"
      },
      "source": [
        "import matplotlib.pyplot as plt\n",
        "\n",
        "x = ['A', 'B', 'C', 'D']\n",
        "y = [10, 30, 40, 15]\n",
        "\n",
        "plt.bar(x, y)\n",
        "plt.show()"
      ],
      "execution_count": null,
      "outputs": []
    },
    {
      "cell_type": "markdown",
      "metadata": {
        "id": "Fy4EVLHCbU0r"
      },
      "source": [
        "###【参考】その他のグラフ"
      ]
    },
    {
      "cell_type": "markdown",
      "metadata": {
        "id": "U_Mu8LOocNa5"
      },
      "source": [
        "さまざまなグラフに関するもっと詳しい内容は [ここ](https://colab.research.google.com/drive/1Ki4Ko-EcRAhaGFJm03LM6kJxBCWVJIAP#scrollTo=h2H9rEPA7YGj&line=2&uniqifier=1) にまとめていますので，興味があれば見てください．"
      ]
    },
    {
      "cell_type": "markdown",
      "metadata": {
        "id": "CI48mvqsF9V_"
      },
      "source": [
        "---\n",
        "##5. csvファイルから系列をリストとして取り出す\n",
        "---\n"
      ]
    },
    {
      "cell_type": "markdown",
      "metadata": {
        "id": "1ik2JQHYg6bR"
      },
      "source": [
        "###csvファイルの読み込み（第10回の復習）"
      ]
    },
    {
      "cell_type": "markdown",
      "metadata": {
        "id": "Y-tY5LapGiqY"
      },
      "source": [
        "これまでに学んだグラフの描き方を用いてcsvファイルのデータをグラフ化する方法を学びましょう．\n",
        "\n",
        "まず以下のセルを実行して仮想マシンに sample.csv を保存しましょう．（この意味が分からない人は，第10回の課題を勉強し直してください）"
      ]
    },
    {
      "cell_type": "code",
      "metadata": {
        "id": "uwguQNdeGgvr"
      },
      "source": [
        "%%file sample.csv\n",
        "taro,175.2,69.7\n",
        "jiro,169.7,75.2\n",
        "saburo,182.1,73.8\n",
        "hanako,156.3,49.6\n",
        "keiko, 151.9,47.1"
      ],
      "execution_count": null,
      "outputs": []
    },
    {
      "cell_type": "markdown",
      "metadata": {
        "id": "_jbItA_KvTSy"
      },
      "source": [
        "以下がcsvファイルを読み込むときの公式でしたね．\n",
        "\n",
        "```\n",
        "with open(ファイル名, 'r', encoding='utf-8') as f:\n",
        "  data = [x for x in csv.reader(f)]\n",
        "```\n",
        "\n",
        "この公式を使って， sample.csv のデータを二次元リスト data に格納しましょう．"
      ]
    },
    {
      "cell_type": "code",
      "metadata": {
        "id": "9fh5hoIjLU2F"
      },
      "source": [
        "import csv\n",
        "\n",
        "with open('sample.csv', 'r', encoding='utf-8') as f:\n",
        "  data = [x for x in csv.reader(f)]\n",
        "\n",
        "print(data)   # データ全体"
      ],
      "execution_count": null,
      "outputs": []
    },
    {
      "cell_type": "markdown",
      "metadata": {
        "id": "22qmEE1hgh9o"
      },
      "source": [
        "###二次元リストから系列を取り出す方法\n"
      ]
    },
    {
      "cell_type": "markdown",
      "metadata": {
        "id": "dplIPs8xkBjL"
      },
      "source": [
        "####二次元リストから1行を取り出す"
      ]
    },
    {
      "cell_type": "markdown",
      "metadata": {
        "id": "rQfWWRx1kUKF"
      },
      "source": [
        "上のコードの実行結果から，この表データがどのような形でdataになっているのかは分かります．（見易さために改行を入れていますが，内容的には上のコードの実行結果と全く同一のものです）\n",
        "```\n",
        "[ ['taro', '175.2', '69.7'], \n",
        "  ['jiro', '169.7', '75.2'], \n",
        "  ['saburo', '182.1', '73.8'], \n",
        "  ['hanako', '156.3', '49.6'], \n",
        "  ['keiko', ' 151.9', '47.1'] ]\n",
        "```\n",
        "このように，**1つの行が1つのリストとなり，それを行数分だけ集めたリスト（二次元リスト）になります**．\n",
        "\n",
        "つまり，dataの各要素をインデクスで指定すると，以下のようになります．\n",
        "\n",
        "- data[0] : ['taro', '175.2', '69.7']\n",
        "- data[1] : ['jiro', '169.7', '75.2']\n",
        "- data[2] : ['saburo', '182.1', '73.8']\n",
        "- data[3] : ['hanako', '156.3', '49.6']\n",
        "- data[4] : ['keiko', ' 151.9', '47.1']\n",
        "\n",
        "例えば表の5行目をリストとして取り出したければ ```data[4]``` と書けばよいわけです．"
      ]
    },
    {
      "cell_type": "code",
      "metadata": {
        "id": "urACIhrdkUKG"
      },
      "source": [
        "import csv\n",
        "\n",
        "with open('sample.csv', 'r', encoding='utf-8') as f:\n",
        "  data = [x for x in csv.reader(f)]\n",
        "\n",
        "print(data[4])   # 5行目のみ表示"
      ],
      "execution_count": null,
      "outputs": []
    },
    {
      "cell_type": "markdown",
      "metadata": {
        "id": "BQFChUzRpJO1"
      },
      "source": [
        "また，**表データの行数を知りたければ， len(data) とすればよい**ことが分かると思います．"
      ]
    },
    {
      "cell_type": "code",
      "metadata": {
        "id": "T0ph44E1pVWT"
      },
      "source": [
        "import csv\n",
        "\n",
        "with open('sample.csv', 'r', encoding='utf-8') as f:\n",
        "  data = [x for x in csv.reader(f)]\n",
        "\n",
        "print( len(data) )   # 行数を表示"
      ],
      "execution_count": null,
      "outputs": []
    },
    {
      "cell_type": "markdown",
      "metadata": {
        "id": "gRmuNRV_kuy7"
      },
      "source": [
        "####二次元リストから1列を取り出す"
      ]
    },
    {
      "cell_type": "markdown",
      "metadata": {
        "id": "uZhk3CPojcs_"
      },
      "source": [
        "表から行単位でデータを取り出したい場合は，上で述べたとおりですが，今度は列単位で取り出す場合を考えます．\n",
        "\n",
        "そのために，まずは，2つのインデクスを与えることで二次元リストの各要素にアクセスする方法を確認しましょう．dataの各要素と値の対応は右の表のとおりです．"
      ]
    },
    {
      "cell_type": "markdown",
      "metadata": {
        "id": "y7mUe-VHjVVm"
      },
      "source": [
        "![tables1.png](data:image/png;base64,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)"
      ]
    },
    {
      "cell_type": "markdown",
      "metadata": {
        "id": "qgyNrfZFkuy7"
      },
      "source": [
        "グラフを描くときには，二次元リストの1列を一つの系列として使いたいことの方が多いと思います．\n",
        "\n",
        "例えば，1列目（名前欄）をリストとして取り出すにはどうすればよいでしょうか？\n",
        "\n",
        "取り出したい5つの要素は， data[0][0], data[1][0], data[2][0], data[3][0], data[4][0] となります．これらを一つのリストにするにはどうするか・・・．勘のいい人なら，内包表記が思いつきませんか？\n",
        "\n",
        "そうです，以下のように書くことで，1列目の5つの名前を要素とするリスト names が生成できます．\n",
        "```\n",
        "names = [data[i][0] for i in range( len(data) )]\n",
        "```\n",
        "もちろん，内包表記を使わない方法も可能です．\n",
        "```\n",
        "names = []\n",
        "for i in range( len(data) ):\n",
        "  names.append( data[i][0] )\n",
        "```\n"
      ]
    },
    {
      "cell_type": "markdown",
      "metadata": {
        "id": "0mO0HYL3z1qD"
      },
      "source": [
        "では，内包表記を使って1列目のリストを作ってみましょう．"
      ]
    },
    {
      "cell_type": "code",
      "metadata": {
        "id": "k3CvR2sClc81"
      },
      "source": [
        "import csv\n",
        "\n",
        "with open('sample.csv', 'r', encoding='utf-8') as f:\n",
        "  data = [x for x in csv.reader(f)]\n",
        "\n",
        "names = [data[i][0] for i in range( len(data) )]\n",
        "print(names)"
      ],
      "execution_count": null,
      "outputs": []
    },
    {
      "cell_type": "markdown",
      "metadata": {
        "id": "rlZyHMSDz7YJ"
      },
      "source": [
        "ちなみに，for文を使うやり方は以下のとおりです．どちらの方法でも構いません．"
      ]
    },
    {
      "cell_type": "code",
      "metadata": {
        "id": "Xrrs1Juskuy8"
      },
      "source": [
        "import csv\n",
        "\n",
        "with open('sample.csv', 'r', encoding='utf-8') as f:\n",
        "  data = [x for x in csv.reader(f)]\n",
        "\n",
        "names = []\n",
        "for i in range( len(data) ):\n",
        "  names.append( data[i][0] )\n",
        "print(names)"
      ],
      "execution_count": null,
      "outputs": []
    },
    {
      "cell_type": "markdown",
      "metadata": {
        "id": "YAnKrSS7nGTm"
      },
      "source": [
        "####二次元リストから1列を数値として取り出す"
      ]
    },
    {
      "cell_type": "markdown",
      "metadata": {
        "id": "wHseZihinKn5"
      },
      "source": [
        "1列目のように文字列データを取り出す場合は，上の処理でOKです．一方，2列目・3列目のように数値データの場合はいかがでしょうか？\n",
        "\n",
        "そうです，dataの**要素はすべて文字列(str)型のデータになっていますので，そこから数値のリストとして取り出したいときには型変換が必要**になります．その点に注目して，2列目・3列目を数値リスト heights, weights として取り出す以下のコードを見てください．"
      ]
    },
    {
      "cell_type": "markdown",
      "metadata": {
        "id": "BIA6GYDM0A0F"
      },
      "source": [
        "内包表記を用いる方法："
      ]
    },
    {
      "cell_type": "code",
      "metadata": {
        "id": "ZB5llMFdnP7j"
      },
      "source": [
        "import csv\n",
        "\n",
        "with open('sample.csv', 'r', encoding='utf-8') as f:\n",
        "  data = [x for x in csv.reader(f)]\n",
        "\n",
        "heights = [float(data[i][1]) for i in range( len(data) )]   # 内包表記の冒頭部に型変換（float()）があるのがポイント\n",
        "print(heights)\n",
        "\n",
        "weights = [float(data[i][2]) for i in range( len(data) )]   # 内包表記の冒頭部に型変換（float()）があるのがポイント\n",
        "print(weights)"
      ],
      "execution_count": null,
      "outputs": []
    },
    {
      "cell_type": "markdown",
      "metadata": {
        "id": "eWeG-0tb0Dk-"
      },
      "source": [
        "for文を用いる方法："
      ]
    },
    {
      "cell_type": "code",
      "metadata": {
        "id": "wFp4v9nBneoT"
      },
      "source": [
        "import csv\n",
        "\n",
        "with open('sample.csv', 'r', encoding='utf-8') as f:\n",
        "  data = [x for x in csv.reader(f)]\n",
        "\n",
        "heights = []\n",
        "for i in range( len(data) ):\n",
        "  heights.append( float(data[i][1]) )   # 型変換（float()）があるのがポイント\n",
        "print(heights)\n",
        "\n",
        "weights = []\n",
        "for i in range( len(data) ):\n",
        "  weights.append( float(data[i][2]) )   # 型変換（float()）があるのがポイント\n",
        "print(weights)"
      ],
      "execution_count": null,
      "outputs": []
    },
    {
      "cell_type": "markdown",
      "metadata": {
        "id": "dP2OjzC2pBhD"
      },
      "source": [
        "---\n",
        "##6. csvファイルからグラフを描画する\n",
        "---"
      ]
    },
    {
      "cell_type": "markdown",
      "metadata": {
        "id": "g4mY66ZcpRxm"
      },
      "source": [
        "###散布図"
      ]
    },
    {
      "cell_type": "markdown",
      "metadata": {
        "id": "UoVw8Ahu2ToQ"
      },
      "source": [
        "sample.csv の5名の身長と体重についての散布図を描いてみましょう．"
      ]
    },
    {
      "cell_type": "code",
      "metadata": {
        "id": "fIiOB0MspZdh"
      },
      "source": [
        "%%file sample.csv\n",
        "taro,175.2,69.7\n",
        "jiro,169.7,75.2\n",
        "saburo,182.1,73.8\n",
        "hanako,156.3,49.6\n",
        "keiko, 151.9,47.1"
      ],
      "execution_count": null,
      "outputs": []
    },
    {
      "cell_type": "code",
      "metadata": {
        "id": "ylA-skjypcWo"
      },
      "source": [
        "import matplotlib.pyplot as plt\n",
        "import csv\n",
        "\n",
        "# csvファイルの読み込み\n",
        "with open('sample.csv', 'r', encoding='utf-8') as f:\n",
        "  data = [x for x in csv.reader(f)]\n",
        "\n",
        "# 内包表記によるリストの生成\n",
        "heights = [float(data[i][1]) for i in range( len(data) )]\n",
        "weights = [float(data[i][2]) for i in range( len(data) )]\n",
        "\n",
        "# グラフ描画\n",
        "plt.scatter(heights, weights)\n",
        "plt.show()"
      ],
      "execution_count": null,
      "outputs": []
    },
    {
      "cell_type": "markdown",
      "metadata": {
        "id": "PgLw8OZz2dqQ"
      },
      "source": [
        "4名は身長と体重がほぼ比例している（直線状に並んでいる）が，1名 (jiro) だけそこから逸脱しているのが分かります．"
      ]
    },
    {
      "cell_type": "markdown",
      "metadata": {
        "id": "ZVKSLeNip9nJ"
      },
      "source": [
        "###棒グラフ"
      ]
    },
    {
      "cell_type": "markdown",
      "metadata": {
        "id": "4-aan3ib22cR"
      },
      "source": [
        "上の sample.csv から，5名の名前を横軸，身長を縦軸にとった棒グラフを描くコードです．"
      ]
    },
    {
      "cell_type": "code",
      "metadata": {
        "id": "0bWnwrcDp-8C"
      },
      "source": [
        "import matplotlib.pyplot as plt\n",
        "import csv\n",
        "\n",
        "# csvファイルの読み込み\n",
        "with open('sample.csv', 'r', encoding='utf-8') as f:\n",
        "  data = [x for x in csv.reader(f)]\n",
        "\n",
        "# 内包表記によるリストの生成\n",
        "names   = [data[i][0] for i in range( len(data) )]\n",
        "heights = [float(data[i][1]) for i in range( len(data) )]\n",
        "\n",
        "# グラフ描画\n",
        "plt.bar(names, heights)\n",
        "plt.show()"
      ],
      "execution_count": null,
      "outputs": []
    },
    {
      "cell_type": "markdown",
      "metadata": {
        "id": "GL-D_jwt3STb"
      },
      "source": [
        "同じcsvファイルから，5名の名前を横軸，体重を縦軸にとった棒グラフを描くコードです．"
      ]
    },
    {
      "cell_type": "code",
      "metadata": {
        "id": "_ZSIZaKvo-Um"
      },
      "source": [
        "import csv\n",
        "\n",
        "with open('sample.csv', 'r', encoding='utf-8') as f:\n",
        "  data = [x for x in csv.reader(f)]\n",
        "\n",
        "# 内包表記によるリストの生成\n",
        "names   = [data[i][0] for i in range(len(data))]\n",
        "weights = [float(data[i][2]) for i in range(len(data))]\n",
        "\n",
        "# グラフ描画\n",
        "plt.bar(names, weights)\n",
        "plt.show()"
      ],
      "execution_count": null,
      "outputs": []
    },
    {
      "cell_type": "markdown",
      "metadata": {
        "id": "Xl8j7IsUrxif"
      },
      "source": [
        "###折れ線グラフ"
      ]
    },
    {
      "cell_type": "markdown",
      "metadata": {
        "id": "NEduDGUw3b0o"
      },
      "source": [
        "まず，以下のセルを実行し，広島県内の2021年6月1～30日の新規感染者数の推移に関するファイル covid19june.csv をダウンロードしてください．"
      ]
    },
    {
      "cell_type": "code",
      "metadata": {
        "id": "Saga55X_vISh"
      },
      "source": [
        "!wget \"https://drive.google.com/uc?export=download&id=17k_If0q71hQRTyvYyFVcwnCc8ONB453j\" -O covid19june.csv"
      ],
      "execution_count": null,
      "outputs": []
    },
    {
      "cell_type": "markdown",
      "metadata": {
        "id": "45AhIH4I3s1b"
      },
      "source": [
        "このファイルを開くと，1列目が日（1～30），2列目が各日の新規感染者数を表してることが分かると思います．\n",
        "\n",
        "このファイルを読み込み，折れ線グラフを描くコードは以下のとおりです．"
      ]
    },
    {
      "cell_type": "code",
      "metadata": {
        "id": "4J-wKxeftTNo"
      },
      "source": [
        "import matplotlib.pyplot as plt\n",
        "import csv\n",
        "\n",
        "# csvファイルの読み込み\n",
        "with open('covid19june.csv', 'r', encoding='utf-8') as f:\n",
        "  data = [x for x in csv.reader(f)]\n",
        "\n",
        "# 内包表記によるリストの生成\n",
        "days    = [int(data[i][0]) for i in range( len(data) )]\n",
        "numbers = [int(data[i][1]) for i in range( len(data) )]\n",
        "\n",
        "# グラフ描画\n",
        "plt.plot(days, numbers)\n",
        "plt.show()"
      ],
      "execution_count": null,
      "outputs": []
    },
    {
      "cell_type": "markdown",
      "metadata": {
        "id": "unwbl9CAt4RI"
      },
      "source": [
        "---\n",
        "##7. 演習\n",
        "---"
      ]
    },
    {
      "cell_type": "markdown",
      "metadata": {
        "id": "dVPkaPNU-hcm"
      },
      "source": [
        "###【演習1】\n",
        "以下のセルを実行し covid19june2.csv をダウンロードしてください．これは，広島県内の2021年6月の「日付」，「新規感染者数」，「重症者数」の3列を持つデータです．"
      ]
    },
    {
      "cell_type": "code",
      "metadata": {
        "id": "cJorMP31-hc2"
      },
      "source": [
        "!wget \"https://drive.google.com/uc?export=download&id=10P_j13Xh2-xjvHDjs1PxadFd5DmQ3zml\" -O covid19june2.csv"
      ],
      "execution_count": null,
      "outputs": []
    },
    {
      "cell_type": "markdown",
      "metadata": {
        "id": "R37b7uWo-hc2"
      },
      "source": [
        "このファイルを読み込み，新規感染者数と重傷者数の2つの折れ線を含むグラフ（下図参照）を描いてください．"
      ]
    },
    {
      "cell_type": "markdown",
      "metadata": {
        "id": "5mdWAG9KiwUh"
      },
      "source": [
        "![graph1.png](data:image/png;base64,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)"
      ]
    },
    {
      "cell_type": "code",
      "metadata": {
        "id": "mlJsbvGW-hc2"
      },
      "source": [
        "# 以下にコードを書いてください（行は適宜増やして構わない）\n",
        "\n",
        "\n"
      ],
      "execution_count": null,
      "outputs": []
    },
    {
      "cell_type": "markdown",
      "metadata": {
        "id": "etyBDSSN4x9D"
      },
      "source": [
        "###【演習2】\n",
        "まず，以下のセルを実行して players.csv をダウンロードしてください．\n",
        "\n",
        "このcsvファイルは，各行につき6つの要素を含む表データとなっており，要素は順に「選手名」・「年齢」・「身長」・「体重」・「出場数」・「ゴール数」を表しています．\n"
      ]
    },
    {
      "cell_type": "code",
      "metadata": {
        "id": "UZh0cIxQ26_d"
      },
      "source": [
        "!wget \"https://drive.google.com/uc?export=download&id=1LY-FtxN1DDLirXYD1Ja0onlP35v0yVUj\" -O players.csv"
      ],
      "execution_count": null,
      "outputs": []
    },
    {
      "cell_type": "markdown",
      "metadata": {
        "id": "g2YOCRcb_iFG"
      },
      "source": [
        "この players.csv を読み込み，全選手の身長と体重に関する散布図（下図参照）を表示してください．"
      ]
    },
    {
      "cell_type": "markdown",
      "metadata": {
        "id": "KjTwH9y1i8-A"
      },
      "source": [
        "![graph2.png](data:image/png;base64,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)"
      ]
    },
    {
      "cell_type": "code",
      "metadata": {
        "id": "3fBj_PwuxwZA"
      },
      "source": [
        "# 以下にコードを書いてください（行は適宜増やして構わない）\n",
        "\n",
        "\n"
      ],
      "execution_count": null,
      "outputs": []
    },
    {
      "cell_type": "markdown",
      "metadata": {
        "id": "buUHFMRI60ur"
      },
      "source": [
        "###【演習3】※力試し\n",
        "上の players.csv を読み込み，身長が170cm台，180cm台，190cm台それぞれの人数を棒グラフ（下図参照）で表示してください．横軸は'170cm', '180cm', '190cm' とし，縦軸は人数とする．"
      ]
    },
    {
      "cell_type": "markdown",
      "metadata": {
        "id": "iemtPorhjBlh"
      },
      "source": [
        "![graph3.png](data:image/png;base64,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)"
      ]
    },
    {
      "cell_type": "code",
      "metadata": {
        "id": "5qNYlN1h7gLG"
      },
      "source": [
        "# 以下にコードを書いてください（行は適宜増やして構わない）\n",
        "\n",
        "\n"
      ],
      "execution_count": null,
      "outputs": []
    },
    {
      "cell_type": "markdown",
      "metadata": {
        "id": "UGPoTxZ73tPx"
      },
      "source": [
        "---\n",
        "以上の課題が完了したら，以下の作業を行うこと．\n",
        "\n",
        "1. メニューの「ファイル」-「ドライブにコピーを保存」を選択し，自分のGoogleドライブに課題を保存する．\n",
        "2. メニューの「ファイル」-「ダウンロード」-「.ipynbファイルをダウンロード」を選択し，提出用の課題ファイル(kadai11.ipynb)をダウンロードする．\n",
        "3. ファイル名を「(学籍番号)-11.ipynb」(学籍番号が2120999なら 2120999-11.ipynb）に変更し，WebClassに提出．\n",
        "\n"
      ]
    }
  ]
}