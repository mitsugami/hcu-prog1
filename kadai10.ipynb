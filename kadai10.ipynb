{
  "nbformat": 4,
  "nbformat_minor": 0,
  "metadata": {
    "colab": {
      "name": "kadai10.ipynb",
      "provenance": [],
      "collapsed_sections": [],
      "toc_visible": true,
      "include_colab_link": true
    },
    "kernelspec": {
      "name": "python3",
      "display_name": "Python 3"
    },
    "language_info": {
      "name": "python"
    }
  },
  "cells": [
    {
      "cell_type": "markdown",
      "metadata": {
        "id": "view-in-github",
        "colab_type": "text"
      },
      "source": [
        "<a href=\"https://colab.research.google.com/github/mitsugami/python_course/blob/main/kadai10.ipynb\" target=\"_parent\"><img src=\"https://colab.research.google.com/assets/colab-badge.svg\" alt=\"Open In Colab\"/></a>"
      ]
    },
    {
      "cell_type": "markdown",
      "metadata": {
        "id": "l-bYbmjqal79"
      },
      "source": [
        "#プログラミングⅠ演習 第10回課題<br>（ライブラリの利用，ファイル読み込み，csvファイルの処理）\n",
        "\n",
        "\n",
        "教科書: \n",
        "* 9章：9.1-9.3節 (p.154-159)\n",
        "* 10章：10.1-10.2節 (p.164-174)\n",
        "\n",
        "参考:\n",
        "\n",
        "「ゼロからのPython入門講座」の以下のトピック\n",
        "* 「Python基礎の基礎」-「[モジュールとimport](https://www.python.jp/train/type_and_func/modules.html)」\n",
        "\n",
        "\n",
        "「Pythonプログラミング入門」の以下のトピック\n",
        "* [5-1. モジュールの使い方](https://utokyo-ipp.github.io/5/5-1.html)\n"
      ]
    },
    {
      "cell_type": "markdown",
      "metadata": {
        "id": "ya_P8RzN2pyF"
      },
      "source": [
        "---\n",
        "##1. モジュールやパッケージを使ってみよう\n"
      ]
    },
    {
      "cell_type": "markdown",
      "metadata": {
        "id": "aT2rBeA_auc4"
      },
      "source": [
        "---\n",
        "###モジュールとは\n",
        "\n",
        "Pythonでは，関連する便利な関数群を1つの.pyファイルにまとめたものを **モジュール** と呼びます．そして，ある目的に関連する複数のモジュールをまとめたものを **パッケージ** と呼びます．モジュールやパッケージは，**import文**によって任意のソースファイル内で呼び出す（インポートする）ことができます．\n",
        "```\n",
        "import モジュール名\n",
        "```\n",
        "\n",
        "パッケージの場合も同様です．（以降の例においても，「モジュール名」となっている箇所は「パッケージ名」と読み替えても大丈夫です）\n",
        "```\n",
        "import パッケージ名\n",
        "```\n",
        "\n",
        "例えば，数学計算用の関数を集めた **mathモジュール** をインポートして，その中の関数 sqrt() （引数の平方根を返す関数）を使う場合，以下のようになります．"
      ]
    },
    {
      "cell_type": "code",
      "metadata": {
        "id": "dnRC7tIErLUB"
      },
      "source": [
        "#Code1-01\n",
        "import math\n",
        "print( math.sqrt(4) )"
      ],
      "execution_count": null,
      "outputs": []
    },
    {
      "cell_type": "markdown",
      "metadata": {
        "id": "HIpQBbghrL-g"
      },
      "source": [
        "このように，モジュール内の関数は，\n",
        "```\n",
        "[モジュール名/パッケージ名].[関数名]\n",
        "```\n",
        "の形で呼び出すことができます．"
      ]
    },
    {
      "cell_type": "markdown",
      "metadata": {
        "id": "Bc1q5TOcr0Gd"
      },
      "source": [
        "---\n",
        "###モジュールに別名をつける\n",
        "\n",
        "モジュール内の関数を呼ぶために，毎回 **モジュール名.関数名** と書くのは面倒です．そこで，インポートする際に，モジュール名の**別名**（一般には，モジュール名よりも短い名前）を設定することができます．\n",
        "\n",
        "```\n",
        "import モジュール名 as 別名\n",
        "```\n",
        "\n",
        "以下の例では，mathモジュール に m という別名をつけています．それによって，以降のコード内では m.random() などのようにより短い記述でモジュール内の関数を呼び出すことができるようになります．（上の Code1-01 と比較してみましょう）"
      ]
    },
    {
      "cell_type": "code",
      "metadata": {
        "id": "YufK9TOSsL_q"
      },
      "source": [
        "#Code1-02\n",
        "import math as m\n",
        "print( m.sqrt(4) )"
      ],
      "execution_count": null,
      "outputs": []
    },
    {
      "cell_type": "markdown",
      "metadata": {
        "id": "1rkqeEHYtyRi"
      },
      "source": [
        "---\n",
        "###モジュール/パッケージから特定の関数だけをインポートする\n",
        "\n",
        "以下の書き方により，モジュール/パッケージから特定の関数だけをインポートすることもできます．\n",
        "\n",
        "```\n",
        "from モジュール名 import 関数名\n",
        "```\n",
        "\n",
        "この場合，この関数を使う際に **モジュール名.関数名** と書く必要はなく，いきなり **関数名** だけでOKです．"
      ]
    },
    {
      "cell_type": "code",
      "metadata": {
        "id": "aKp8ERsiubHx"
      },
      "source": [
        "#Code1-03\n",
        "from math import sqrt\n",
        "print( sqrt(4) )"
      ],
      "execution_count": null,
      "outputs": []
    },
    {
      "cell_type": "markdown",
      "metadata": {
        "id": "uketN0GFumMX"
      },
      "source": [
        "さらに，この呼び出す関数に**別名**をつけることもできます．\n",
        "\n",
        "```\n",
        "from モジュール名 import 関数名 as 別名\n",
        "```"
      ]
    },
    {
      "cell_type": "code",
      "metadata": {
        "id": "Je3bmJ6juxWE"
      },
      "source": [
        "#Code1-04\n",
        "from math import sqrt as sq\n",
        "print( sq(4) )"
      ],
      "execution_count": null,
      "outputs": []
    },
    {
      "cell_type": "markdown",
      "metadata": {
        "id": "1O69-niE94GP"
      },
      "source": [
        "###ライブラリとは\n",
        "\n",
        "一般には，「モジュールを集めたものを**パッケージ**，**パッケージ**を集めたものを**ライブラリ**と呼ぶ」などの説明がなされます．上述のとおり，**モジュール** と **パッケージ** は，1つのファイルか複数のファイルを集めたものかの差であり比較的明確ですが， **ライブラリ** はこれらを指す言葉として曖昧に使われることが多いので，あまり気にしなくてよいと思います．\n"
      ]
    },
    {
      "cell_type": "markdown",
      "metadata": {
        "id": "mSuLmheIBYeV"
      },
      "source": [
        "【参考】\n",
        "\n",
        "ちなみに，Pythonで利用できる関数は，さまざまな形で提供されます：\n",
        "* **組み込み関数**\\\n",
        "len(), max() などのように，モジュール・パッケージのimport無しで利用できるもの\n",
        "* **標準ライブラリに含まれるモジュールの関数**\\\n",
        "randomモジュール, mathモジュールなどのように import すれば利用できる関数（Pythonの実行環境に標準で用意されているため，importするだけで使えるもの）\n",
        "* **外部ライブラリに含まれるモジュールの関数**\\\n",
        "numpy や matplotlib などのように，Pythonの実行環境には標準では用意されていないモジュールに含まれる関数．pipを使って環境にインストールした上でコード内で import することで利用できる．"
      ]
    },
    {
      "cell_type": "markdown",
      "metadata": {
        "id": "CeRsnlOZYRdx"
      },
      "source": [
        "---\n",
        "###【演習1-1】\n",
        "① さまざまなランダム値の生成を行うことができる randomモジュール を呼び出し，その中の関数 random() （0以上1未満の乱数を返す関数）を使ってみましょう．"
      ]
    },
    {
      "cell_type": "code",
      "metadata": {
        "id": "jG40kUk4cviF"
      },
      "source": [
        "# Code1-05\n",
        "\n",
        "\n"
      ],
      "execution_count": null,
      "outputs": []
    },
    {
      "cell_type": "markdown",
      "metadata": {
        "id": "07zGlJ6ovKbU"
      },
      "source": [
        "② 上のコードを，randomモジュールに r という別名をつけて使うように書き換えてみましょう．"
      ]
    },
    {
      "cell_type": "code",
      "metadata": {
        "id": "kRwI1lyh3fed"
      },
      "source": [
        "# Code1-06\n",
        "\n",
        "\n"
      ],
      "execution_count": null,
      "outputs": []
    },
    {
      "cell_type": "markdown",
      "metadata": {
        "id": "oZuIZiVavbnA"
      },
      "source": [
        "③ 上のコード (Code1-06) を複数回実行（横の実行ボタンをクリック）し，出力される結果を確認しましょう．値は同じですか？それとも毎回変化しますか？\n",
        "\n",
        "（回答は不要です）"
      ]
    },
    {
      "cell_type": "markdown",
      "metadata": {
        "id": "khIy5QGIwDfr"
      },
      "source": [
        "④ ③の結果を踏まえて，0以上100未満のランダム値を10個並べたリスト result を生成するプログラムを作りましょう．\n",
        "\n",
        "（ヒント：ランダム値を生成してはappendで繋ぐ）"
      ]
    },
    {
      "cell_type": "code",
      "metadata": {
        "id": "8eBe4E-Gw8Uh"
      },
      "source": [
        "# Code1-07 \n",
        "\n",
        "\n"
      ],
      "execution_count": null,
      "outputs": []
    },
    {
      "cell_type": "markdown",
      "metadata": {
        "id": "J3oPAjqMyIRI"
      },
      "source": [
        "###【演習1-2】\n",
        "\n",
        "calendarモジュールをインポートし，引数で指定された年・月のカレンダーを表示する関数 prmonth(year, month) を呼び出して，2021年7月のカレンダーを表示しましょう．"
      ]
    },
    {
      "cell_type": "code",
      "metadata": {
        "id": "r-VNcm_DyRvL"
      },
      "source": [
        "# Code1-08\n",
        "\n",
        "\n"
      ],
      "execution_count": null,
      "outputs": []
    },
    {
      "cell_type": "markdown",
      "metadata": {
        "id": "qJCqXf4uy2y_"
      },
      "source": [
        "```from モジュール名 import 関数名 as 別名```\\\n",
        "   の書き方を使って，関数 prmonth() に別名 tsuki() をつけて呼び出しましょう．"
      ]
    },
    {
      "cell_type": "code",
      "metadata": {
        "id": "kpWBTIztzF9i"
      },
      "source": [
        "# Code1-09\n",
        "\n",
        "\n"
      ],
      "execution_count": null,
      "outputs": []
    },
    {
      "cell_type": "markdown",
      "metadata": {
        "id": "8RTTK9snzNNH"
      },
      "source": [
        "###【演習1-3】\n",
        "\n",
        "mathモジュールには以下のような関数・定数が用意されています．\n",
        "\n",
        "|  関数名（引数）  |  内容  |\n",
        "| ---- | ---- |\n",
        "|  sin(x)  |  $\\sin(x)$ （xの単位はラジアン）  |\n",
        "|  cos(x)  |  $\\cos(x)$ （xの単位はラジアン）  |\n",
        "|  tan(x)  |  $\\tan(x)$ （xの単位はラジアン）  |\n",
        "|  sqrt(x)  |  xの平方根 $\\sqrt{x}$  |\n",
        "\n",
        "|  定数  |  内容  |\n",
        "| ---- | ---- |\n",
        "|  pi  |  円周率 $\\pi$  |\n",
        "|  e  |  自然対数の底 $e$  |\n",
        "|  inf  |  浮動小数の正の無限大  |\n",
        "\n",
        "なお，定数の後には括弧はつきませんので注意してください．例えば円周率 $\\pi$ を使って半径rの円の面積を求めるプログラムは以下のように書きます．\n",
        "```\n",
        "import math as m\n",
        "r = 3\n",
        "menseki = r * r * m.pi   # m.pi()とは書かない\n",
        "```\n",
        "\n",
        "\n",
        "これらを用いて，以下の計算結果を表示してください．\n",
        "$$ \\sqrt{ \\sin^2(\\frac{\\pi}{4}) + \\cos^2(\\frac{\\pi}{4}) } $$"
      ]
    },
    {
      "cell_type": "code",
      "metadata": {
        "id": "yOaRZPwO0Tik"
      },
      "source": [
        "# Code1-10\n",
        "\n",
        "\n"
      ],
      "execution_count": null,
      "outputs": []
    },
    {
      "cell_type": "markdown",
      "metadata": {
        "id": "fRDBYxgo2yKT"
      },
      "source": [
        "---\n",
        "##2. テキストファイルの読み込み\n",
        "\n"
      ]
    },
    {
      "cell_type": "markdown",
      "metadata": {
        "id": "Y0A5ztyN1VJK"
      },
      "source": [
        "---\n",
        "### テキストファイルとは\n",
        "\n",
        "人が読んで理解することのできる文字データだけで構成されたファイルのことを **テキストファイル** と呼びます．Windowsの「メモ帳」アプリやエディタで開くことのできるファイルです．\n",
        "\n",
        "テキストファイルの例：\n",
        "```\n",
        "taro,175.2,69.7\n",
        "jiro,169.7,75.2\n",
        "hanako,156.3,49.6\n",
        "```"
      ]
    },
    {
      "cell_type": "markdown",
      "metadata": {
        "id": "QSdTiDmU4KHq"
      },
      "source": [
        "###【Colab限定知識】Colab上でテキストファイルを作成・保存する\n",
        "\n",
        "Colabでは，コードセル（普段皆さんがコードを記述している灰色背景のセル）の冒頭に\n",
        "```\n",
        "%%file [ファイル名]\n",
        "```\n",
        "と書き，2行目以降に自由に内容を記述した後にそのセルを実行すると，2行目以降がテキストファイルとして保存されます（実行結果表示部に \"Writing [ファイル名]\" と表示されます）．"
      ]
    },
    {
      "cell_type": "code",
      "metadata": {
        "id": "1lgIBV-14TuF"
      },
      "source": [
        "%%file sample.txt\n",
        "taro,175.2,69.7\n",
        "jiro,169.7,75.2\n",
        "hanako,156.3,49.6"
      ],
      "execution_count": null,
      "outputs": []
    },
    {
      "cell_type": "markdown",
      "metadata": {
        "id": "MY4dRSm35Ln0"
      },
      "source": [
        "なお，この**ファイルが保存されるのは，皆さんの使っているPCではなく，そのColab用にクラウド上に一時的に作成された仮想マシン上**ですので，勘違いしないようにしてください．\n",
        "\n",
        "保存されたファイルを確認するには，Colab画面左端のフォルダアイコンをクリックしてください．作成したファイル名のファイルがあるはずです．\n",
        "\n",
        "このファイル名をダブルクリックすると，画面右側にそのファイルの中身が表示されます．この表示は，上部の「×」をクリックすると消すことができます．"
      ]
    },
    {
      "cell_type": "markdown",
      "metadata": {
        "id": "MCatv4146Dyz"
      },
      "source": [
        "###ファイルの読み込み\n",
        "\n",
        "open関数を使ってテキストファイルをプログラム内で開くことができます．以下の構文です．\n",
        "```\n",
        "f = open(ファイル名, 'r', encoding=エンコーディング形式)\n",
        "```\n",
        "\n",
        "例えば，上で保存した sample.txt を開くときには，以下のように書きます．\n",
        "\n",
        "f はファイルに対するさまざまな処理を行うための変数（ファイルオブジェクト）であり，任意の名前で構いませんが，f や file という変数名が用いられることが多いです．\n",
        "\n",
        "'r' はファイルを「読み込み」モードで開くという指定です．"
      ]
    },
    {
      "cell_type": "code",
      "metadata": {
        "id": "meXTpLGY7l4z"
      },
      "source": [
        "# Code2-01\n",
        "f = open('sample.txt', 'r', encoding='utf-8')"
      ],
      "execution_count": null,
      "outputs": []
    },
    {
      "cell_type": "markdown",
      "metadata": {
        "id": "BJ6n2eaO8J5M"
      },
      "source": [
        "なお，上で行ったのはファイルを「開く」操作だけで，まだその中身を読み取りにいってはいませんので，何も起きません．\n",
        "\n",
        "このファイルの中身を str 変数に代入するには，ファイルオブジェクトの **read() 関数**を用います．"
      ]
    },
    {
      "cell_type": "code",
      "metadata": {
        "id": "PPfFrSfw8bll"
      },
      "source": [
        "# Code2-02\n",
        "buf = f.read()\n",
        "print(buf)"
      ],
      "execution_count": null,
      "outputs": []
    },
    {
      "cell_type": "markdown",
      "metadata": {
        "id": "iLKP1jJb9dMK"
      },
      "source": [
        "ファイルに対する読み込み操作を終えたら，最後に ファイルを閉じる という操作が必要になります．以下で行います．"
      ]
    },
    {
      "cell_type": "code",
      "metadata": {
        "id": "ENK1XDuM9nyz"
      },
      "source": [
        "# Code2-03\n",
        "f.close()"
      ],
      "execution_count": null,
      "outputs": []
    },
    {
      "cell_type": "markdown",
      "metadata": {
        "id": "cIzeWg009qaJ"
      },
      "source": [
        "以上，ファイルを開く→中身を読み込む→ファイルを閉じる という一連の操作を別々のセルで実行しましたが，実際には以下のようにワンセットで行います．"
      ]
    },
    {
      "cell_type": "code",
      "metadata": {
        "id": "0sKxLm9f90ad"
      },
      "source": [
        "# Code2-04\n",
        "f = open('sample.txt', 'r', encoding='utf-8')\n",
        "buf = f.read()\n",
        "print(buf)\n",
        "f.close()"
      ],
      "execution_count": null,
      "outputs": []
    },
    {
      "cell_type": "markdown",
      "metadata": {
        "id": "LNtvmgkR_dec"
      },
      "source": [
        "ちなみに，**read()関数**のかわりに**readlines()関数**を用いると，ファイルの1行ごとを1つの文字列(str)として，ファイル全体文を列挙したリストとして返してくれます．"
      ]
    },
    {
      "cell_type": "code",
      "metadata": {
        "id": "CtLvB5Cz_VLZ"
      },
      "source": [
        "# Code2-05\n",
        "f = open('sample.txt', 'r', encoding='utf-8')\n",
        "buf = f.readlines()\n",
        "print(buf)\n",
        "f.close()"
      ],
      "execution_count": null,
      "outputs": []
    },
    {
      "cell_type": "markdown",
      "metadata": {
        "id": "8bEMCGfm_wki"
      },
      "source": [
        "ちなみに，実行結果のリストの1つ目・2つ目の要素の末尾に '\\n' という文字があります．これは 改行 を表します．この例では，3行目はファイルの末尾で改行が無いため，3つ目の要素の末尾には '\\n' がありません．"
      ]
    },
    {
      "cell_type": "markdown",
      "metadata": {
        "id": "C4wb2QpUB2A0"
      },
      "source": [
        "さらに，**readlines()関数**のかわりに**readline()関数**（末尾のsが無い）を使うと，1行だけの読み込みになります．"
      ]
    },
    {
      "cell_type": "code",
      "metadata": {
        "id": "QYuHpw9gB-da"
      },
      "source": [
        "# Code2-06\n",
        "f = open('sample.txt', 'r', encoding='utf-8')\n",
        "buf = f.readline()\n",
        "print(buf)\n",
        "f.close()"
      ],
      "execution_count": null,
      "outputs": []
    },
    {
      "cell_type": "markdown",
      "metadata": {
        "id": "ux_8fteUCFYg"
      },
      "source": [
        "実行結果を見ると，今度は末尾に '\\n' がありませんね．そのかわり，よく見ると，実行結果に空白の2行目があります．これは，'taro,175.2,69.7\\n' という文字列(str)データをprint()関数により画面表示する際に，'\\n'が実際に改行として表示されているためです．"
      ]
    },
    {
      "cell_type": "markdown",
      "metadata": {
        "id": "L6DFzAXZAP5-"
      },
      "source": [
        "###with文を使ったファイル読み込み\n",
        "\n",
        "上の例のように，**open関数でファイルを開くときには，最後必ず close しなければなりません**．しかし，この close はよく忘れがちです．また，この方法ではファイルの中身を一度にメモリ上に展開するため，巨大なファイルを読み込むとメモリを圧迫してしまう可能性があります．\n",
        "\n",
        "これらの問題を避けるために，**ファイルの読み書きには with文 を使った書き方をするのが一般的です**．以下の書き方です．\n",
        "```\n",
        "with open(ファイル名, 'r', encoding='utf-8') as f:\n",
        "    f.read()\n",
        "```\n",
        "\n",
        "この書き方で sample.txt を読み込んでみましょう．"
      ]
    },
    {
      "cell_type": "code",
      "metadata": {
        "id": "Td-iloO3BD7a"
      },
      "source": [
        "# Code2-07\n",
        "with open('sample.txt', 'r', encoding='utf-8') as f:\n",
        "  buf = f.read()\n",
        "  \n",
        "print(buf)"
      ],
      "execution_count": null,
      "outputs": []
    },
    {
      "cell_type": "markdown",
      "metadata": {
        "id": "8PEJUnwPChkf"
      },
      "source": [
        "上の例と同様に，readlines()関数やreadline()関数を使った書き方もできます．"
      ]
    },
    {
      "cell_type": "code",
      "metadata": {
        "id": "AcsPueyYCoGY"
      },
      "source": [
        "# Code2-08\n",
        "with open('sample.txt', 'r', encoding='utf-8') as f:\n",
        "  buf = f.readlines()\n",
        "  \n",
        "print(buf)"
      ],
      "execution_count": null,
      "outputs": []
    },
    {
      "cell_type": "code",
      "metadata": {
        "id": "rXnly6jYCr02"
      },
      "source": [
        "# Code2-09\n",
        "with open('sample.txt', 'r', encoding='utf-8') as f:\n",
        "  buf = f.readline()\n",
        "  \n",
        "print(buf)"
      ],
      "execution_count": null,
      "outputs": []
    },
    {
      "cell_type": "markdown",
      "metadata": {
        "id": "gHkro_3ADBd6"
      },
      "source": [
        "###【Colab限定知識】ファイルを自身のColabの仮想マシンにダウンロードする\n",
        "\n",
        "以下のセルを実行してください．Web上に置かれた sample2.txt が皆さんのColabの仮想マシンにダウンロードされます．"
      ]
    },
    {
      "cell_type": "code",
      "metadata": {
        "id": "ZkLmesL-DSEr"
      },
      "source": [
        "!wget \"https://drive.google.com/uc?export=download&id=1J674uuznKV92GwN-OTjN-bvJqPKKa-qM\" -O sample2.txt"
      ],
      "execution_count": null,
      "outputs": []
    },
    {
      "cell_type": "markdown",
      "metadata": {
        "id": "PBjAc2SXFO3K"
      },
      "source": [
        "Colab画面左端のフォルダアイコンをクリックし， sample2.txt が存在することを確認してください．\n",
        "\n",
        "ここの内容は理解できる必要はありませんが，**今後，皆さんのColabでいろいろなファイルの読み込みをする演習・試験を行う際に同様の作業をお願いしますので，「あ，これはファイルをColabの仮想マシンにダウンロードしてきているのだな」という理解はしておいてください**．"
      ]
    },
    {
      "cell_type": "markdown",
      "metadata": {
        "id": "wBBoZOtFFspd"
      },
      "source": [
        "###【演習2-1】\n",
        "with文を使って，上でダウンロードした sample2.txt の中身を表示するプログラムを作成してください．"
      ]
    },
    {
      "cell_type": "code",
      "metadata": {
        "id": "NfCN-gsgGQCe"
      },
      "source": [
        "# Code2-10\n",
        "\n",
        "\n"
      ],
      "execution_count": null,
      "outputs": []
    },
    {
      "cell_type": "markdown",
      "metadata": {
        "id": "CI48mvqsF9V_"
      },
      "source": [
        "---\n",
        "##3. csvファイルの読み込み\n"
      ]
    },
    {
      "cell_type": "markdown",
      "metadata": {
        "id": "ajwkLkIFGFOC"
      },
      "source": [
        "---\n",
        "###csvファイルとは"
      ]
    },
    {
      "cell_type": "markdown",
      "metadata": {
        "id": "Y-tY5LapGiqY"
      },
      "source": [
        "csv は \"Comma-Separated Values\" の略です．**csvファイルは，Excelの表データのような項目の列挙を，項目ごとにコンマで区切ることで表現したテキストファイルです**．\n",
        "\n",
        "例えば，上で作成・保存した sample.txt はcsv形式のファイルでした．ここでは，同じ内容を sample.csv というファイル名で保存してみましょう．（以下のセルを実行することで，仮想マシンに sample.csv が保存されます）"
      ]
    },
    {
      "cell_type": "code",
      "metadata": {
        "id": "uwguQNdeGgvr"
      },
      "source": [
        "%%file sample.csv\n",
        "taro,175.2,69.7\n",
        "jiro,169.7,75.2\n",
        "hanako,156.3,49.6"
      ],
      "execution_count": null,
      "outputs": []
    },
    {
      "cell_type": "markdown",
      "metadata": {
        "id": "cT3Cqx6PH7d3"
      },
      "source": [
        "この sample.csv をダブルクリックすると，画面右側に下のような表形式でデータが表示されます（1行目(taro,175.2,69.7)が自動的にタイトル部と解釈されていますが，それはとりあえず気にしなくて結構です）．これは，csvが表形式のデータを保存するためのファイル形式だと一般的に認識されているために，Colabの環境が勝手に表形式で表示しているだけで，実態はsample.txtと全く同じただのテキストファイルだということを認識しておいてください．"
      ]
    },
    {
      "cell_type": "markdown",
      "metadata": {
        "id": "Qt6ROFzuH3zC"
      },
      "source": [
        "![csv_view.png](data:image/png;base64,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)"
      ]
    },
    {
      "cell_type": "markdown",
      "metadata": {
        "id": "Nlqci3mxIt2q"
      },
      "source": [
        "###csvモジュールを用いたcsvファイルの読み込み\n",
        "\n",
        "自分で書いたプログラムでcsvファイルから個々の項目にアクセスできるようにするには，csvファイルの各行の文字列を，コンマで分解する必要がありますが，これは少し面倒です（第9回課題の問7参照）．\n",
        "\n",
        "csvモジュールを用いることで，この面倒が省けます．"
      ]
    },
    {
      "cell_type": "code",
      "metadata": {
        "id": "FyQM9eAmKFt7"
      },
      "source": [
        "# Code3-01\n",
        "import csv\n",
        "\n",
        "with open('sample.csv', 'r', encoding='utf-8') as f:\n",
        "  reader = csv.reader(f)\n",
        "  for x in reader:  \n",
        "    print(x)"
      ],
      "execution_count": null,
      "outputs": []
    },
    {
      "cell_type": "markdown",
      "metadata": {
        "id": "qGM_gI4Hs5vB"
      },
      "source": [
        "上の例では，for文を使って，readerから1行取り出してはxにリストとして代入して表示し，新たな行がある間ループが回り続けることで，すべての行を表示しています．ただし，for文を抜けた時点では，xには最後の行の情報しか残っていないことになります．\n",
        "\n",
        "もし，すべての行のデータを表のような形で格納しておきたければ，以下のように各行のリストを行数分だけ並べたリスト（二次元リスト）を作っておくとよいです．"
      ]
    },
    {
      "cell_type": "code",
      "metadata": {
        "id": "ObR1AVxgLedU"
      },
      "source": [
        "# Code3-02\n",
        "import csv\n",
        "\n",
        "data = []\n",
        "with open('sample.csv', 'r', encoding='utf-8') as f:\n",
        "  reader = csv.reader(f)\n",
        "  for x in reader:  \n",
        "    data.append(x)\n",
        "\n",
        "print(data)"
      ],
      "execution_count": null,
      "outputs": []
    },
    {
      "cell_type": "markdown",
      "metadata": {
        "id": "u-taBX3Ot9SH"
      },
      "source": [
        "このような二次元リスト (data) を作っておくと，以降， **data[i-1][j-1]** として **i** 行目の **j** 番目の要素にアクセスできるようになります．（リストのインデクスが0スタートな点に注意！）"
      ]
    },
    {
      "cell_type": "code",
      "metadata": {
        "id": "hm7KWQeXuPWd"
      },
      "source": [
        "# Code3-03\n",
        "import csv\n",
        "\n",
        "data = []\n",
        "with open('sample.csv', 'r', encoding='utf-8') as f:\n",
        "  reader = csv.reader(f)\n",
        "  for x in reader:  \n",
        "    data.append(x)\n",
        "\n",
        "print(data)   # データ全体\n",
        "print(data[2][0])   # 3行目の1番目の要素"
      ],
      "execution_count": null,
      "outputs": []
    },
    {
      "cell_type": "markdown",
      "metadata": {
        "id": "q0B8klDbu5cy"
      },
      "source": [
        "さて，上の例のfor文周辺は，以下のとおり内包表記で簡潔に書くことができます．\n",
        "\n",
        "（なぜそうなるかが分からない人は， [ここ](https://colab.research.google.com/drive/1yCofXiUH2hNgfblobYgUmE0x_gHZ9Mo4?usp=sharing) を参照してください）"
      ]
    },
    {
      "cell_type": "code",
      "metadata": {
        "id": "9fh5hoIjLU2F"
      },
      "source": [
        "# Code3-04\n",
        "import csv\n",
        "\n",
        "with open('sample.csv', 'r', encoding='utf-8') as f:\n",
        "  data = [x for x in csv.reader(f)]\n",
        "\n",
        "print(data)   # データ全体\n",
        "print(data[2][0])   # 3行目の1番目の要素"
      ],
      "execution_count": null,
      "outputs": []
    },
    {
      "cell_type": "markdown",
      "metadata": {
        "id": "_jbItA_KvTSy"
      },
      "source": [
        "for文を使うよりずいぶんすっきりと書けることが分かります．**csvファイルの読み込みは非常に頻繁に行われる処理ですので，是非この書き方を \"公式\" としてマスターしておきましょう**．\n",
        "\n",
        "```\n",
        "with open(ファイル名, 'r', encoding='utf-8') as f:\n",
        "  data = [x for x in csv.reader(f)]\n",
        "```\n",
        "\n",
        "これを一度実行しておくだけで，ファイル内のデータがすべて二次元リスト data に書き込まれ，以降 data[i][j] として個々の要素にアクセスできるようになります！"
      ]
    },
    {
      "cell_type": "markdown",
      "metadata": {
        "id": "TBXOp31qxrWN"
      },
      "source": [
        "###【演習3-1】\n",
        "まず，以下のセルを実行して players.csv をダウンロードしてください．\n",
        "\n",
        "このcsvファイルは，各行につき6つの要素を含む表データとなっており，要素は順に「選手名」・「年齢」・「身長」・「体重」・「出場数」・「ゴール数」を表しています．"
      ]
    },
    {
      "cell_type": "code",
      "metadata": {
        "id": "UZh0cIxQ26_d"
      },
      "source": [
        "!wget \"https://drive.google.com/uc?export=download&id=1LY-FtxN1DDLirXYD1Ja0onlP35v0yVUj\" -O players.csv"
      ],
      "execution_count": null,
      "outputs": []
    },
    {
      "cell_type": "markdown",
      "metadata": {
        "id": "etyBDSSN4x9D"
      },
      "source": [
        "この players.csv を上の「公式」を使って二次元リスト data に読み込んでください．"
      ]
    },
    {
      "cell_type": "code",
      "metadata": {
        "id": "3fBj_PwuxwZA"
      },
      "source": [
        "# Code3-05\n",
        "import csv\n",
        "\n",
        "# 以下にコードを記述してください\n",
        "\n",
        "\n",
        "\n",
        "\n",
        "# 結果確認用（以下は書き換えないでください）\n",
        "print(data)"
      ],
      "execution_count": null,
      "outputs": []
    },
    {
      "cell_type": "markdown",
      "metadata": {
        "id": "bw4SH95-0LWO"
      },
      "source": [
        "###【演習3-2】\n",
        "まず，演習3-1のコードをコピー＆ペーストし，さらに選手名（各行1つ目の要素）の一覧を出力するコードを追加して，プログラムを完成させてください．"
      ]
    },
    {
      "cell_type": "code",
      "metadata": {
        "id": "tOyw99Rk0f4g"
      },
      "source": [
        "# Code3-06\n",
        "import csv\n",
        "\n",
        "# 以下にコードを記述してください\n",
        "\n",
        "\n",
        "\n"
      ],
      "execution_count": null,
      "outputs": []
    },
    {
      "cell_type": "markdown",
      "metadata": {
        "id": "Zu-Yh4Gn0610"
      },
      "source": [
        "###【演習3-3】\n",
        "まず，演習3-1のコードをコピー＆ペーストし，さらに各選手のゴール数（各行6つ目の要素）の総和を算出・表示するコードを追加して，プログラムを完成させてください．"
      ]
    },
    {
      "cell_type": "code",
      "metadata": {
        "id": "88SGP6vr1MaB"
      },
      "source": [
        "# Code3-06\n",
        "import csv\n",
        "\n",
        "# 以下にコードを記述してください\n",
        "\n",
        "\n",
        "\n"
      ],
      "execution_count": null,
      "outputs": []
    },
    {
      "cell_type": "markdown",
      "metadata": {
        "id": "1YoVQlt45RSt"
      },
      "source": [
        "###【演習3-4】（力試し）\n",
        "演習3-1の players.csv を読み込み，年齢が30歳以上の選手のゴール数の合計を算出・表示するプログラムを作成してください．"
      ]
    },
    {
      "cell_type": "code",
      "metadata": {
        "id": "m6sngllw6m9y"
      },
      "source": [
        "# Code3-07\n",
        "import csv\n",
        "\n",
        "# 以下にコードを記述してください\n",
        "\n",
        "\n",
        "\n"
      ],
      "execution_count": null,
      "outputs": []
    },
    {
      "cell_type": "markdown",
      "metadata": {
        "id": "UGPoTxZ73tPx"
      },
      "source": [
        "---\n",
        "以上の課題が完了したら，以下の作業を行うこと．\n",
        "\n",
        "1. メニューの「ファイル」-「ドライブにコピーを保存」を選択し，自分のGoogleドライブに課題を保存する．\n",
        "2. メニューの「ファイル」-「ダウンロード」-「.ipynbファイルをダウンロード」を選択し，提出用の課題ファイル(kadai10.ipynb)をダウンロードする．\n",
        "3. ファイル名を「(学籍番号)-10.ipynb」(学籍番号が2120999なら 2120999-10.ipynb）に変更し，WebClassに提出．\n",
        "\n"
      ]
    }
  ]
}