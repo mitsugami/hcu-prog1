{
  "nbformat": 4,
  "nbformat_minor": 0,
  "metadata": {
    "colab": {
      "name": "kadai03.ipynb",
      "provenance": [],
      "collapsed_sections": [],
      "include_colab_link": true
    },
    "kernelspec": {
      "name": "python3",
      "display_name": "Python 3"
    },
    "language_info": {
      "name": "python"
    }
  },
  "cells": [
    {
      "cell_type": "markdown",
      "metadata": {
        "id": "view-in-github",
        "colab_type": "text"
      },
      "source": [
        "<a href=\"https://colab.research.google.com/github/mitsugami/python_course/blob/main/kadai03.ipynb\" target=\"_parent\"><img src=\"https://colab.research.google.com/assets/colab-badge.svg\" alt=\"Open In Colab\"/></a>"
      ]
    },
    {
      "cell_type": "markdown",
      "metadata": {
        "id": "l-bYbmjqal79"
      },
      "source": [
        "#プログラミングⅠ演習 第3回課題\n",
        "\n",
        "教科書: 6章 (p.90-104)\n",
        "\n",
        "参考: https://www.python.jp/train/index.html の以下のトピック\n",
        "\n",
        "* 条件式と分岐\n",
        "* ブール型と論理演算子\n",
        "* while文による繰り返し\n"
      ]
    },
    {
      "cell_type": "markdown",
      "metadata": {
        "id": "UE3nv2Vka_EI"
      },
      "source": [
        "---\n",
        "##Sec 06-01 if文"
      ]
    },
    {
      "cell_type": "markdown",
      "metadata": {
        "id": "c_UjETl0csHu"
      },
      "source": [
        "★比較演算子（2つの値を比較する演算子）\n",
        "\n",
        "| 演算子| 機能 |\n",
        "|----|----|\n",
        "| a < b | aがbより小さければTrue，そうでなければFalseを生成 |\n",
        "| a > b | aがbより大きければTrueを，そうでなければFlaseを生成|\n",
        "| a <= b | aがb以下ならばTrue，そうでなければFalseを生成 |\n",
        "| a >= b | aがb以上ならばTrueを，そうでなければFlaseを生成|\n",
        "| a == b | aとbが等しければTrue，そうでなければFalseを生成 |\n",
        "| a != b | aとbが等しくなければTrueを，そうでなければFlaseを生成|"
      ]
    },
    {
      "cell_type": "markdown",
      "metadata": {
        "id": "YI7alZlOnmhP"
      },
      "source": [
        "【例題1-1】整数aと整数bが，それぞれ0より大きいかどうか判定する"
      ]
    },
    {
      "cell_type": "code",
      "metadata": {
        "id": "0_jAqNScnwcG"
      },
      "source": [
        "a = 5\n",
        "if a > 0:\n",
        "  print('a:yes')"
      ],
      "execution_count": null,
      "outputs": []
    },
    {
      "cell_type": "code",
      "metadata": {
        "id": "-BJCos-O4ynf"
      },
      "source": [
        "b = -5\n",
        "if b > 0:\n",
        "  print('b:yes')"
      ],
      "execution_count": null,
      "outputs": []
    },
    {
      "cell_type": "markdown",
      "metadata": {
        "id": "r-bdidGdzqUO"
      },
      "source": [
        "【例題1-2】整数aと整数bが等しくない場合，a is not equal to bと表示する"
      ]
    },
    {
      "cell_type": "code",
      "metadata": {
        "id": "K4hRmh7pkLDg"
      },
      "source": [
        "a = 10\n",
        "b = 5\n",
        "if a != b: \n",
        "  print('a is not equal to b')"
      ],
      "execution_count": null,
      "outputs": []
    },
    {
      "cell_type": "markdown",
      "metadata": {
        "id": "0j3UZYgxkLVb"
      },
      "source": [
        "【演習1】コードを完成させて，2つの値を比較しよう"
      ]
    },
    {
      "cell_type": "markdown",
      "metadata": {
        "id": "Uxxz5HG5dNOe"
      },
      "source": [
        "① 半径aの円の面積が30以下の場合，Yesと表示"
      ]
    },
    {
      "cell_type": "code",
      "metadata": {
        "id": "Xhs8UGqHdMtD"
      },
      "source": [
        "a = 3\n",
        "menseki =  #この行にコードを追記してください\n",
        "if  #この行にコードを追記してください\n",
        "  print('Yes')"
      ],
      "execution_count": null,
      "outputs": []
    },
    {
      "cell_type": "markdown",
      "metadata": {
        "id": "2P1XAcYAep2y"
      },
      "source": [
        "② 整数aを整数bで割った商（整数）と，整数aを整数bで割った余りが等しい場合，Yesと表示"
      ]
    },
    {
      "cell_type": "code",
      "metadata": {
        "id": "ss1X79uEW9NE"
      },
      "source": [
        "a = 8\n",
        "b = 3\n",
        "sho =   #この行にコードを追記してください\n",
        "amari =   #この行にコードを追記してください\n",
        "if  #この行にコードを追記してください\n",
        "  print('Yes')"
      ],
      "execution_count": null,
      "outputs": []
    },
    {
      "cell_type": "markdown",
      "metadata": {
        "id": "9RZtThP8wC02"
      },
      "source": [
        "★論理演算子\n",
        "\n",
        "| 演算子| 機能 |\n",
        "|----|----|\n",
        "| X and Y | XもYも真ならばTrue，そうでなければFalseを生成 |\n",
        "| X or Y | XもYも偽ならばFalse，そうでなければTrueを生成 |\n",
        "| not X | Xが真であればFalseを，そうでなければ（Xが偽であれば）Trueを生成|"
      ]
    },
    {
      "cell_type": "markdown",
      "metadata": {
        "id": "EfDpqeB_xR5-"
      },
      "source": [
        "【例題2】整数aも整数bも，どちらも0より大きいかどうか判定する"
      ]
    },
    {
      "cell_type": "code",
      "metadata": {
        "id": "KKrHAiYtyFRW"
      },
      "source": [
        "a = 5\n",
        "b = 10\n",
        "if a > 0 and b > 0:\n",
        "  print('yes')"
      ],
      "execution_count": null,
      "outputs": []
    },
    {
      "cell_type": "markdown",
      "metadata": {
        "id": "_tlKrTs90IE-"
      },
      "source": [
        "【演習2】コードを完成させて，値を判定しよう"
      ]
    },
    {
      "cell_type": "markdown",
      "metadata": {
        "id": "rKS-M7BcvHKT"
      },
      "source": [
        "① 整数xが0以上かつ5未満の場合，Yesと表示"
      ]
    },
    {
      "cell_type": "code",
      "metadata": {
        "id": "wl1PNjvxyw2l"
      },
      "source": [
        "x = 3\n",
        "if   #この行にコードを追記してください\n",
        "  print('Yes')"
      ],
      "execution_count": null,
      "outputs": []
    },
    {
      "cell_type": "markdown",
      "metadata": {
        "id": "yc2zx3gD2pjA"
      },
      "source": [
        "② 半径aの面積が30以下，または，一辺bの正方形の面積が30以下の場合，Yesと表示"
      ]
    },
    {
      "cell_type": "code",
      "metadata": {
        "id": "670EFKOUVk9C"
      },
      "source": [
        "a = 3\n",
        "circle =  #この行に円の面積を求めるコードを追記してください\n",
        "b = 5\n",
        "square =  #この行に正方形の面積を求めるコードを追記してください\n",
        "if  #この行にコードを追記してください\n",
        "  print('Yes')"
      ],
      "execution_count": null,
      "outputs": []
    },
    {
      "cell_type": "markdown",
      "metadata": {
        "id": "0asNS9JmWgSn"
      },
      "source": [
        "【例題3-1】整数aが偶数か奇数か判定する"
      ]
    },
    {
      "cell_type": "code",
      "metadata": {
        "id": "RPXu4ygYWftO"
      },
      "source": [
        "a = 9\n",
        "if a%2 == 0:\n",
        "  print('偶数です')\n",
        "else:\n",
        "  print('奇数です')"
      ],
      "execution_count": null,
      "outputs": []
    },
    {
      "cell_type": "markdown",
      "metadata": {
        "id": "i-icLrWUYNQI"
      },
      "source": [
        "【例題3-2】整数xが90以上の場合はS，80～90の場合はA，70～80以上の場合はB，60～70の場合はC，60未満の場合はDを表示する"
      ]
    },
    {
      "cell_type": "code",
      "metadata": {
        "id": "1h_Zr1ZrZAJs"
      },
      "source": [
        "x = 85  #いろいろな整数を入力して結果を確認しよう\n",
        "if x >= 90:\n",
        "  print('S')\n",
        "elif x >= 80:\n",
        "  print('A')\n",
        "elif x >= 70:\n",
        "  print('B')\n",
        "elif x >= 60:\n",
        "  print('C')\n",
        "else:\n",
        "  print('D')\n"
      ],
      "execution_count": null,
      "outputs": []
    },
    {
      "cell_type": "markdown",
      "metadata": {
        "id": "92l-WBPYW5KQ"
      },
      "source": [
        "【演習3】整数bが5の倍数の場合はcase1，5の倍数ではないが3の倍数である場合はcase2，どちらでもない場合はcase3と表示しよう"
      ]
    },
    {
      "cell_type": "code",
      "metadata": {
        "id": "chVVQq-3XZ58"
      },
      "source": [
        "b = 5   #いろいろな整数を入力して結果を確認してください\n",
        "if   #この行にコードを追記してください\n",
        "  print('case1')\n",
        "# この行にコードを追記してください\n",
        "  print('case2')\n",
        "# この行にコードを追記してください\n",
        "  print('case3')"
      ],
      "execution_count": null,
      "outputs": []
    },
    {
      "cell_type": "markdown",
      "metadata": {
        "id": "aT2rBeA_auc4"
      },
      "source": [
        "---\n",
        "##Sec 06-02 for文"
      ]
    },
    {
      "cell_type": "markdown",
      "metadata": {
        "id": "CeRsnlOZYRdx"
      },
      "source": [
        "【例題4-1】リストのすべての要素を表示する"
      ]
    },
    {
      "cell_type": "code",
      "metadata": {
        "id": "JHeDaP2hYK1z"
      },
      "source": [
        "language = ['Japanese', 'English', 'French', 'German']\n",
        "for x in language:\n",
        "  print(x)"
      ],
      "execution_count": null,
      "outputs": []
    },
    {
      "cell_type": "markdown",
      "metadata": {
        "id": "SWlYnqHWeeMA"
      },
      "source": [
        "【例題4-2】リストの一部の要素を表示する"
      ]
    },
    {
      "cell_type": "code",
      "metadata": {
        "id": "-B-GinKNedyx"
      },
      "source": [
        "language = ['Japanese', 'English', 'French', 'German']\n",
        "for i in range(1, 3, 1):\n",
        "  print(language[i])"
      ],
      "execution_count": null,
      "outputs": []
    },
    {
      "cell_type": "markdown",
      "metadata": {
        "id": "JNGQ7sLThjw4"
      },
      "source": [
        "【例題4-3】一桁の整数に対し，1から順に奇数を表示する"
      ]
    },
    {
      "cell_type": "code",
      "metadata": {
        "id": "JfCdeMMLhjOc"
      },
      "source": [
        "for i in range(1, 10, 2):\n",
        "  print(i, end=' ')"
      ],
      "execution_count": null,
      "outputs": []
    },
    {
      "cell_type": "markdown",
      "metadata": {
        "id": "m8qH4R5w2gPy"
      },
      "source": [
        "【例題4-4】1から5までの和を求める"
      ]
    },
    {
      "cell_type": "code",
      "metadata": {
        "id": "xTZY9HUl2mOn"
      },
      "source": [
        "total = 0\n",
        "for i in range(1, 6):\n",
        "  total += i\n",
        "print('total =', total)"
      ],
      "execution_count": null,
      "outputs": []
    },
    {
      "cell_type": "markdown",
      "metadata": {
        "id": "dyQaRnzYZ8Gq"
      },
      "source": [
        "【演習4】コードを完成させて，指定されたリストの要素や数字を表示しよう"
      ]
    },
    {
      "cell_type": "markdown",
      "metadata": {
        "id": "eeqrWAwW5jOE"
      },
      "source": [
        "① bananaとappleを表示する（range関数の終了値を指定）"
      ]
    },
    {
      "cell_type": "code",
      "metadata": {
        "id": "L5mdhWpfZ_lb"
      },
      "source": [
        "fruits = ['banana', 'apple', 'orange', 'grape']\n",
        "for #この行にコードを追記してください\n",
        "  print(fruits[i]) "
      ],
      "execution_count": null,
      "outputs": []
    },
    {
      "cell_type": "markdown",
      "metadata": {
        "id": "qsCM5P6C5p5w"
      },
      "source": [
        "② bananaとappleを表示する（range関数の開始値・終了値を指定）"
      ]
    },
    {
      "cell_type": "code",
      "metadata": {
        "id": "Rtl5MBvy6Ban"
      },
      "source": [
        "fruits = ['banana', 'apple', 'orange', 'grape']\n",
        "for #この行にコードを追記してください\n",
        "  print(fruits[i]) "
      ],
      "execution_count": null,
      "outputs": []
    },
    {
      "cell_type": "markdown",
      "metadata": {
        "id": "37lHGgCC6CkH"
      },
      "source": [
        "③ bananaとappleを表示する（range関数の開始値・終了値・ステップを指定）"
      ]
    },
    {
      "cell_type": "code",
      "metadata": {
        "id": "gUkN7o7B6RQb"
      },
      "source": [
        "fruits = ['banana', 'apple', 'orange', 'grape']\n",
        "for #この行にコードを追記してください\n",
        "  print(fruits[i]) "
      ],
      "execution_count": null,
      "outputs": []
    },
    {
      "cell_type": "markdown",
      "metadata": {
        "id": "vk9ZArL_6PED"
      },
      "source": [
        "④ appleとgrapeを表示する"
      ]
    },
    {
      "cell_type": "code",
      "metadata": {
        "id": "8UNmalEq6d99"
      },
      "source": [
        "fruits = ['banana', 'apple', 'orange', 'grape']\n",
        "for #この行にコードを追記してください\n",
        "  print(fruits[i]) "
      ],
      "execution_count": null,
      "outputs": []
    },
    {
      "cell_type": "markdown",
      "metadata": {
        "id": "9w3kUQMDlGDg"
      },
      "source": [
        "⑤ 1から20までの整数のうち，4の倍数のみを表示する"
      ]
    },
    {
      "cell_type": "code",
      "metadata": {
        "id": "-FpnXqerlRnq"
      },
      "source": [
        "for #この行にコードを追記してください\n",
        "  print(i, end=' ')"
      ],
      "execution_count": null,
      "outputs": []
    },
    {
      "cell_type": "markdown",
      "metadata": {
        "id": "Qm-rh4MGzk1i"
      },
      "source": [
        "【例題5-1】リストのすべての要素を，インデックスとともに表示する"
      ]
    },
    {
      "cell_type": "code",
      "metadata": {
        "id": "7cxn18HlknFp"
      },
      "source": [
        "language = ['Japanese', 'English', 'French', 'German']\n",
        "for i, x in enumerate(language):\n",
        "  print(i, x)"
      ],
      "execution_count": null,
      "outputs": []
    },
    {
      "cell_type": "markdown",
      "metadata": {
        "id": "CggIGw14y-ci"
      },
      "source": [
        "【例題5-2】リストのすべての要素に，3の倍数をつけて表示する"
      ]
    },
    {
      "cell_type": "code",
      "metadata": {
        "id": "5jiJju8xzRgU"
      },
      "source": [
        "fruits = ['banana', 'apple', 'orange', 'grape']\n",
        "for i, x in enumerate(fruits,1):\n",
        "  print(i*3, x)"
      ],
      "execution_count": null,
      "outputs": []
    },
    {
      "cell_type": "markdown",
      "metadata": {
        "id": "XRb_zI4D0uLN"
      },
      "source": [
        "---\n",
        "##Sec 06-03 while文"
      ]
    },
    {
      "cell_type": "markdown",
      "metadata": {
        "id": "PrbAFW5y04Fi"
      },
      "source": [
        "【例題6-1】5からカウントダウンする"
      ]
    },
    {
      "cell_type": "code",
      "metadata": {
        "id": "5QOuAS7a051L"
      },
      "source": [
        "n = 5\n",
        "while n >= 0:\n",
        "  print(n, end=' ')\n",
        "  n -= 1\n",
        "print()"
      ],
      "execution_count": null,
      "outputs": []
    },
    {
      "cell_type": "markdown",
      "metadata": {
        "id": "F8fuIbmn12b_"
      },
      "source": [
        "【例題6-2】1から5までの和を求める"
      ]
    },
    {
      "cell_type": "code",
      "metadata": {
        "id": "JsB2Y6pd2ELO"
      },
      "source": [
        "n = 1\n",
        "total = 0\n",
        "while n <= 5:\n",
        "  total += n\n",
        "  n += 1\n",
        "print('total =', total)"
      ],
      "execution_count": null,
      "outputs": []
    },
    {
      "cell_type": "markdown",
      "metadata": {
        "id": "x1OiWJ9ny_8C"
      },
      "source": [
        "【演習6】コードを完成させて，指定されたリストの要素や数字を表示しよう"
      ]
    },
    {
      "cell_type": "markdown",
      "metadata": {
        "id": "evFz5_DCzx8O"
      },
      "source": [
        "① リストのすべての要素を表示する"
      ]
    },
    {
      "cell_type": "code",
      "metadata": {
        "id": "3kQ6Uw7tzxVm"
      },
      "source": [
        "fruits = ['banana', 'apple', 'orange', 'grape']\n",
        "i = 0\n",
        "while  #この行にコードを追記してください\n",
        "  print(fruits[i]) \n",
        "  i  #この行にコードを追記してください"
      ],
      "execution_count": null,
      "outputs": []
    },
    {
      "cell_type": "markdown",
      "metadata": {
        "id": "ah1Py4-A0kcg"
      },
      "source": [
        "② appleとorangeを表示する"
      ]
    },
    {
      "cell_type": "code",
      "metadata": {
        "id": "THdNRFHI0srm"
      },
      "source": [
        "fruits = ['banana', 'apple', 'orange', 'grape']\n",
        "i = 0\n",
        "while  #この行にコードを追記してください\n",
        "  print(fruits[])  #[]内にコードを追記してください\n",
        "  i  #この行にコードを追記してください"
      ],
      "execution_count": null,
      "outputs": []
    },
    {
      "cell_type": "markdown",
      "metadata": {
        "id": "NSyKrk8x1M1t"
      },
      "source": [
        "③ 1から20までの整数のうち，4の倍数のみ表示する"
      ]
    },
    {
      "cell_type": "code",
      "metadata": {
        "id": "a2zqk9rO1BRI"
      },
      "source": [
        "n = 1\n",
        "while #この行にコードを追記してください\n",
        "  print(n, end=' ')\n",
        "  n #この行にコードを追記してください\n",
        "print()"
      ],
      "execution_count": null,
      "outputs": []
    },
    {
      "cell_type": "markdown",
      "metadata": {
        "id": "9tADweq63ceO"
      },
      "source": [
        "【例題7】1から10までの整数のうち，奇数のみ表示する"
      ]
    },
    {
      "cell_type": "code",
      "metadata": {
        "id": "0ZGnUBUm3Y0G"
      },
      "source": [
        "n = 1\n",
        "while n <= 10:\n",
        "  if n%2 != 0:\n",
        "    print(n, end=' ')\n",
        "  n += 1"
      ],
      "execution_count": null,
      "outputs": []
    },
    {
      "cell_type": "markdown",
      "metadata": {
        "id": "KLfrwNWk4RYH"
      },
      "source": [
        "【演習7】1から20までの整数のうち，4の倍数のみ表示した後，それらの和を求めよう"
      ]
    },
    {
      "cell_type": "code",
      "metadata": {
        "id": "r7JVtsJZ4hYu"
      },
      "source": [
        "n = 1\n",
        "sum = 0\n",
        "while n <= 20:\n",
        "  if #この行にコードを追記してください\n",
        "    print(n, end=' ')\n",
        "    sum #この行にコードを追記してください\n",
        "  n #この行にコードを追記してください\n",
        "print()\n",
        "print('sum =', sum)"
      ],
      "execution_count": null,
      "outputs": []
    },
    {
      "cell_type": "markdown",
      "metadata": {
        "id": "2y9EN5szvdp5"
      },
      "source": [
        "---\n",
        "##Sec 06-04 break文とcontinue文"
      ]
    },
    {
      "cell_type": "markdown",
      "metadata": {
        "id": "N9T1yUBAvo6p"
      },
      "source": [
        "【例題8-1】先頭からリストの要素を読み込み，表示する．ただし，負の数が読み込まれた時点で，プログラムを終了する．"
      ]
    },
    {
      "cell_type": "code",
      "metadata": {
        "id": "NP42eDqIvnmt"
      },
      "source": [
        "number = [5, 19, -3, 6, 25]\n",
        "i = 0\n",
        "while i < 5:\n",
        "  if number[i] < 0:\n",
        "    break\n",
        "  print(number[i], end=' ')\n",
        "  i += 1\n",
        "  "
      ],
      "execution_count": null,
      "outputs": []
    },
    {
      "cell_type": "markdown",
      "metadata": {
        "id": "rLpjJM-hyvca"
      },
      "source": [
        "【例題8-2】先頭からリストを読み込み，表示する．ただし，負の数は表示しない．"
      ]
    },
    {
      "cell_type": "code",
      "metadata": {
        "id": "4nXAb9dz8O8W"
      },
      "source": [
        "number = [5, 19, -3, 6, 25]\n",
        "i = 0\n",
        "while i < 5:\n",
        "  if number[i] < 0:\n",
        "    i += 1\n",
        "    continue\n",
        "  print(number[i], end=' ')\n",
        "  i += 1"
      ],
      "execution_count": null,
      "outputs": []
    },
    {
      "cell_type": "markdown",
      "metadata": {
        "id": "w1EMxrZD8jo2"
      },
      "source": [
        "【演習8】1から順に（上限は30としておきましょう）3の倍数ではない整数の和を求めていき，その和の値が50以上になった時点でその和の値を出力して停止するプログラムを作成しよう．"
      ]
    },
    {
      "cell_type": "code",
      "metadata": {
        "id": "mEGQ25G7AjEu"
      },
      "source": [
        "n = 1\n",
        "sum = 0\n",
        "while #この行にコードを追記してください\n",
        "  if #この行にコードを追記してください\n",
        "    n += 1\n",
        "    continue\n",
        "  print(n, end=' ')\n",
        "  sum #この行にコードを追記してください\n",
        "  if #この行にコードを追記してください\n",
        "    print()\n",
        "    print('sum =', sum)\n",
        "    break\n",
        "  n += 1"
      ],
      "execution_count": null,
      "outputs": []
    },
    {
      "cell_type": "markdown",
      "metadata": {
        "id": "BZnue4CvHThL"
      },
      "source": [
        "---\n",
        "##力試し\n",
        "\n",
        "【演習9】\n",
        "与えられた人物名のリスト(people)から，指定された人物名(person1, person2)が存在するかどうかを判定するプログラムを作成せよ．\n",
        "\n",
        "（person = 'Jiro' としたときの表示結果）\\\n",
        "yes\\\n",
        "（person = 'Hanako' としたときの表示結果）\\\n",
        "no\n"
      ]
    },
    {
      "cell_type": "code",
      "metadata": {
        "id": "e2t8gkolHYjR"
      },
      "source": [
        "people = ['Taro', 'Jiro', 'Saburo', 'Shiro', 'Goro']\n",
        "person = 'Jiro'\n",
        "\n",
        "#以下にコードを記述してください．\n"
      ],
      "execution_count": null,
      "outputs": []
    },
    {
      "cell_type": "markdown",
      "metadata": {
        "id": "UGPoTxZ73tPx"
      },
      "source": [
        "---\n",
        "以上の課題が完了したら，以下の作業を行うこと．\n",
        "\n",
        "1. メニューの「ファイル」-「ドライブにコピーを保存」を選択し，自分のGoogleドライブに課題を保存する．\n",
        "2. メニューの「ファイル」-「ダウンロード」-「.ipynbファイルをダウンロード」を選択し，提出用の課題ファイル(kadai03.ipynb)をダウンロードする．\n",
        "3. ファイル名を「(学籍番号)-03.ipynb」(学籍番号が2120999なら 2120999-03.ipynb）に変更し，WebClassに提出．\n",
        "\n"
      ]
    }
  ]
}