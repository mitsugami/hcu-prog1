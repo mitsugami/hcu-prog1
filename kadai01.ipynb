{
  "nbformat": 4,
  "nbformat_minor": 0,
  "metadata": {
    "colab": {
      "name": "kadai01.ipynb",
      "provenance": [],
      "collapsed_sections": [],
      "include_colab_link": true
    },
    "kernelspec": {
      "name": "python3",
      "display_name": "Python 3"
    },
    "language_info": {
      "name": "python"
    }
  },
  "cells": [
    {
      "cell_type": "markdown",
      "metadata": {
        "id": "view-in-github",
        "colab_type": "text"
      },
      "source": [
        "<a href=\"https://colab.research.google.com/github/mitsugami/python_course/blob/main/kadai01.ipynb\" target=\"_parent\"><img src=\"https://colab.research.google.com/assets/colab-badge.svg\" alt=\"Open In Colab\"/></a>"
      ]
    },
    {
      "cell_type": "markdown",
      "metadata": {
        "id": "l-bYbmjqal79"
      },
      "source": [
        "#プログラミングⅠ演習 第1回課題\n",
        "\n",
        "教科書: 4.1-4.3節 (p.54-63)\n",
        "\n",
        "参考: https://www.python.jp/train/index.html の以下のトピック\n",
        "\n",
        "* Python初体験\n",
        "* Python基礎の基礎\n",
        "* 文字列と入出力\n"
      ]
    },
    {
      "cell_type": "markdown",
      "metadata": {
        "id": "UE3nv2Vka_EI"
      },
      "source": [
        "---\n",
        "##Sec 04-01 数値\n",
        "～ インタプリタを電卓として使う ～"
      ]
    },
    {
      "cell_type": "markdown",
      "metadata": {
        "id": "c_UjETl0csHu"
      },
      "source": [
        "| 演算 | 演算子 |\n",
        "|----|----|\n",
        "| 加算 | + |\n",
        "| 減算 | - |\n",
        "| 乗算 | * |\n",
        "| 除算 | / |\n",
        "| 整数の除算の商 | // |\n",
        "| 整数の除算の余り | % |\n",
        "| べき乗 | ** |\n",
        "\n",
        "【例題1】\n",
        "\n",
        "$ (3+4)*5 $"
      ]
    },
    {
      "cell_type": "code",
      "metadata": {
        "id": "K4hRmh7pkLDg",
        "outputId": "e94b955c-4898-4286-d327-e335f311f4db",
        "colab": {
          "base_uri": "https://localhost:8080/"
        }
      },
      "source": [
        "(3+4)*5"
      ],
      "execution_count": null,
      "outputs": [
        {
          "output_type": "execute_result",
          "data": {
            "text/plain": [
              "35"
            ]
          },
          "metadata": {},
          "execution_count": 1
        }
      ]
    },
    {
      "cell_type": "markdown",
      "metadata": {
        "id": "0j3UZYgxkLVb"
      },
      "source": [
        "【演習1】以下の計算結果を確認しましょう．"
      ]
    },
    {
      "cell_type": "markdown",
      "metadata": {
        "id": "Uxxz5HG5dNOe"
      },
      "source": [
        "① $ 1+2+3+4+5 $"
      ]
    },
    {
      "cell_type": "code",
      "metadata": {
        "id": "Xhs8UGqHdMtD"
      },
      "source": [
        ""
      ],
      "execution_count": null,
      "outputs": []
    },
    {
      "cell_type": "markdown",
      "metadata": {
        "id": "2P1XAcYAep2y"
      },
      "source": [
        "② $ (1+2)*3+4 $"
      ]
    },
    {
      "cell_type": "code",
      "metadata": {
        "id": "BKgoAV42SjDq"
      },
      "source": [
        ""
      ],
      "execution_count": null,
      "outputs": []
    },
    {
      "cell_type": "markdown",
      "metadata": {
        "id": "quUuZX3Odic5"
      },
      "source": [
        "③ $ 1+2+3+4+5+6+7+8+9+10+11+12+13+14+15+16+17+18+19+20 $\n",
        "\n",
        "※ 真面目に全部足し算せず，賢い計算法をしてもらって構いません"
      ]
    },
    {
      "cell_type": "code",
      "metadata": {
        "id": "P6HladtHdd_G"
      },
      "source": [
        ""
      ],
      "execution_count": null,
      "outputs": []
    },
    {
      "cell_type": "markdown",
      "metadata": {
        "id": "SGd63zTGdvwZ"
      },
      "source": [
        "④ $ 2^{24} $"
      ]
    },
    {
      "cell_type": "code",
      "metadata": {
        "id": "jfPwxeUhd2MG"
      },
      "source": [
        ""
      ],
      "execution_count": null,
      "outputs": []
    },
    {
      "cell_type": "markdown",
      "metadata": {
        "id": "IxoWjVeLeC9W"
      },
      "source": [
        "⑤ $ 3^{10} \\mod 7 $\n",
        "\n",
        "※ \"X mod Y\" は，XをYで割った余りを意味します"
      ]
    },
    {
      "cell_type": "code",
      "metadata": {
        "id": "BGXe47FufSdx"
      },
      "source": [
        ""
      ],
      "execution_count": null,
      "outputs": []
    },
    {
      "cell_type": "markdown",
      "metadata": {
        "id": "aT2rBeA_auc4"
      },
      "source": [
        "---\n",
        "##Sec 04-02 文字列"
      ]
    },
    {
      "cell_type": "markdown",
      "metadata": {
        "id": "CeRsnlOZYRdx"
      },
      "source": [
        "【例題2】Hello world! を表示する"
      ]
    },
    {
      "cell_type": "code",
      "metadata": {
        "id": "JHeDaP2hYK1z"
      },
      "source": [
        "print(\"Hello world!\")"
      ],
      "execution_count": null,
      "outputs": []
    },
    {
      "cell_type": "markdown",
      "metadata": {
        "id": "dyQaRnzYZ8Gq"
      },
      "source": [
        "【演習2】自分の氏名を表示してみよう\n",
        "\n",
        "（例）Taro Ichidai"
      ]
    },
    {
      "cell_type": "code",
      "metadata": {
        "id": "L5mdhWpfZ_lb"
      },
      "source": [
        ""
      ],
      "execution_count": null,
      "outputs": []
    },
    {
      "cell_type": "markdown",
      "metadata": {
        "id": "A57bhQbVjswp"
      },
      "source": [
        "##文字列の演算"
      ]
    },
    {
      "cell_type": "markdown",
      "metadata": {
        "id": "Qm-rh4MGzk1i"
      },
      "source": [
        "【例題3】"
      ]
    },
    {
      "cell_type": "code",
      "metadata": {
        "id": "7cxn18HlknFp"
      },
      "source": [
        "'Kyary' +  'Pamyu' * 2"
      ],
      "execution_count": null,
      "outputs": []
    },
    {
      "cell_type": "markdown",
      "metadata": {
        "id": "CggIGw14y-ci"
      },
      "source": [
        "【演習3】以下の文字列の演算を使って生成してみよう\n",
        "\n",
        "'うらにわにわにわにわにわにわとりがいる'\n",
        "\n",
        "（'にわ' が6回繰り返されます）"
      ]
    },
    {
      "cell_type": "code",
      "metadata": {
        "id": "5jiJju8xzRgU"
      },
      "source": [
        ""
      ],
      "execution_count": null,
      "outputs": []
    },
    {
      "cell_type": "markdown",
      "metadata": {
        "id": "XRb_zI4D0uLN"
      },
      "source": [
        "---\n",
        "##Sec 04-03 変数"
      ]
    },
    {
      "cell_type": "markdown",
      "metadata": {
        "id": "PrbAFW5y04Fi"
      },
      "source": [
        "【例題4】"
      ]
    },
    {
      "cell_type": "code",
      "metadata": {
        "id": "5QOuAS7a051L",
        "colab": {
          "base_uri": "https://localhost:8080/"
        },
        "outputId": "2e4afed1-f818-424d-fea1-2c9887159fbc"
      },
      "source": [
        "a = 100\n",
        "b = 200\n",
        "c = a + b\n",
        "print(c)"
      ],
      "execution_count": null,
      "outputs": [
        {
          "output_type": "stream",
          "text": [
            "300\n"
          ],
          "name": "stdout"
        }
      ]
    },
    {
      "cell_type": "markdown",
      "metadata": {
        "id": "IKEOx0Td1dlb"
      },
      "source": [
        "【演習4】下のコードを完成させて，半径5の円の面積を表示しましょう"
      ]
    },
    {
      "cell_type": "code",
      "metadata": {
        "id": "TMZ5zH4q3MQn"
      },
      "source": [
        "r = 5\n",
        "pi = 3.14159\n",
        "menseki = \n",
        "print(menseki)"
      ],
      "execution_count": null,
      "outputs": []
    },
    {
      "cell_type": "markdown",
      "metadata": {
        "id": "NSyKrk8x1M1t"
      },
      "source": [
        "【例題5】"
      ]
    },
    {
      "cell_type": "code",
      "metadata": {
        "id": "WqZWrSUk1M1t"
      },
      "source": [
        "a = 'Taro'\n",
        "b = ' '\n",
        "c = 'Ichidai'\n",
        "fullname = a + b + c\n",
        "print(fullname)"
      ],
      "execution_count": null,
      "outputs": []
    },
    {
      "cell_type": "markdown",
      "metadata": {
        "id": "IuKTbXdzS4Oe"
      },
      "source": [
        "【演習5】下のコードを完成させて，pen-pineapple-apple-penと表示しましょう"
      ]
    },
    {
      "cell_type": "code",
      "metadata": {
        "id": "QhJ-vVZSa8Oh"
      },
      "source": [
        "a = 'pen'\n",
        "b = 'pine'\n",
        "c = 'apple'\n",
        "d = '-'\n",
        "string = \n",
        "print(string)"
      ],
      "execution_count": null,
      "outputs": []
    },
    {
      "cell_type": "markdown",
      "metadata": {
        "id": "UGPoTxZ73tPx"
      },
      "source": [
        "---\n",
        "以上の課題が完了したら，以下の作業を行うこと．\n",
        "\n",
        "1. メニューの「ファイル」-「ドライブにコピーを保存」を選択し，自分のGoogleドライブに課題を保存する．\n",
        "2. メニューの「ファイル」-「ダウンロード」-「.ipynbファイルをダウンロード」を選択し，提出用の課題ファイル(kadai01.ipynb)をダウンロードする．\n",
        "3. ファイル名を「(学籍番号)-01.ipynb」(学籍番号が2120999なら 2120999-01.ipynb）に変更し，WebClassに提出．\n",
        "\n"
      ]
    }
  ]
}