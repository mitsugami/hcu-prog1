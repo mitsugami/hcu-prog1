{
  "nbformat": 4,
  "nbformat_minor": 0,
  "metadata": {
    "colab": {
      "name": "kadai05.ipynb",
      "provenance": [],
      "collapsed_sections": [],
      "include_colab_link": true
    },
    "kernelspec": {
      "name": "python3",
      "display_name": "Python 3"
    },
    "language_info": {
      "name": "python"
    }
  },
  "cells": [
    {
      "cell_type": "markdown",
      "metadata": {
        "id": "view-in-github",
        "colab_type": "text"
      },
      "source": [
        "<a href=\"https://colab.research.google.com/github/mitsugami/python_course/blob/main/kadai05.ipynb\" target=\"_parent\"><img src=\"https://colab.research.google.com/assets/colab-badge.svg\" alt=\"Open In Colab\"/></a>"
      ]
    },
    {
      "cell_type": "markdown",
      "metadata": {
        "id": "l-bYbmjqal79"
      },
      "source": [
        "#プログラミングⅠ演習 第5回課題\n",
        "\n",
        "教科書: 7.1-7.2節 (p.106-116)\n",
        "\n",
        "参考:\n",
        "\n",
        "https://docs.python.org/ja/3/tutorial/index.html の以下のトピック\n",
        "* 4.6. 関数を定義する\n",
        "* 4.7.1. デフォルトの引数値\n",
        "* 4.7.2. キーワード引数\n",
        "* 4.7.3. 特殊なパラメータ\n",
        "\n",
        "https://utokyo-ipp.github.io/ の以下のトピック\n",
        "* 3-3. 関数\n"
      ]
    },
    {
      "cell_type": "markdown",
      "metadata": {
        "id": "aT2rBeA_auc4"
      },
      "source": [
        "---\n",
        "##関数"
      ]
    },
    {
      "cell_type": "markdown",
      "metadata": {
        "id": "CeRsnlOZYRdx"
      },
      "source": [
        "###【例題1-1】"
      ]
    },
    {
      "cell_type": "markdown",
      "metadata": {
        "id": "dwktqnKhDMXo"
      },
      "source": [
        "長方形の面積を表示するプログラムは，以下のように書ける．"
      ]
    },
    {
      "cell_type": "code",
      "metadata": {
        "id": "pxzycdnZWPB8"
      },
      "source": [
        "# これまでの学習内容では\n",
        "tate = 5\n",
        "yoko = 3\n",
        "menseki = tate * yoko\n",
        "print(menseki)"
      ],
      "execution_count": null,
      "outputs": []
    },
    {
      "cell_type": "markdown",
      "metadata": {
        "id": "tHiEj8H9W9m2"
      },
      "source": [
        "これを，長方形の2辺の長さ x, y を引数として受け取り面積を計算する関数rect()を使って書くと，以下のようになる．"
      ]
    },
    {
      "cell_type": "code",
      "metadata": {
        "id": "azmNjR1ZWWHh"
      },
      "source": [
        "def rect(x, y):\n",
        "  return x * y\n",
        "  \n",
        "tate = 5\n",
        "yoko = 3\n",
        "menseki = rect(tate, yoko)\n",
        "print(menseki)"
      ],
      "execution_count": null,
      "outputs": []
    },
    {
      "cell_type": "markdown",
      "metadata": {
        "id": "za7uSiF8A1Mz"
      },
      "source": [
        "###【例題1-2】\n",
        "\n",
        "上底3cm，下底5cm，高さ4cmの台形の面積を求める（関数を使わない場合）："
      ]
    },
    {
      "cell_type": "code",
      "metadata": {
        "id": "IqzJA0U-A1M6"
      },
      "source": [
        "area = (3+5) * 4 / 2\n",
        "print(area)"
      ],
      "execution_count": null,
      "outputs": []
    },
    {
      "cell_type": "markdown",
      "metadata": {
        "id": "x24tRL1FH2uk"
      },
      "source": [
        "関数を使った場合："
      ]
    },
    {
      "cell_type": "code",
      "metadata": {
        "id": "gRJ5gxOwBRf8"
      },
      "source": [
        "def trapez(upper, lower, height):\n",
        "  area = (upper+lower) * height / 2\n",
        "  return area\n",
        "\n",
        "menseki = trapez(3, 5, 4)\n",
        "print(menseki)"
      ],
      "execution_count": null,
      "outputs": []
    },
    {
      "cell_type": "markdown",
      "metadata": {
        "id": "Jem5BVrqGhq2"
      },
      "source": [
        "なお，上のコードでは一旦変数 menseki に値を代入してその menseki を print によって表示しているが， print( trapez(3, 5, 4) ) と関数ごと print に渡しても構わない．（「trapez(3, 5, 4)」全体が，その返り値を表しているから）"
      ]
    },
    {
      "cell_type": "code",
      "metadata": {
        "id": "AkPQJywYHEiV"
      },
      "source": [
        "def trapez(upper, lower, height):\n",
        "  area = (upper+lower) * height / 2\n",
        "  return area\n",
        "\n",
        "print( trapez(3, 5, 4) )"
      ],
      "execution_count": null,
      "outputs": []
    },
    {
      "cell_type": "markdown",
      "metadata": {
        "id": "ipncRT8eoXbM"
      },
      "source": [
        "###【例題1-3】\n",
        "戻り値は必須ではない．以下のように表示のみを行う関数などでは戻り値がない．\n",
        "\n",
        "以下は，引数xで表された個数だけ\\*を表示する関数である．\\\n",
        "例えば，x=5の場合，以下のように表示される．\n",
        "```\n",
        "*****\n",
        "```"
      ]
    },
    {
      "cell_type": "code",
      "metadata": {
        "id": "DhJtA829sTOo"
      },
      "source": [
        "# 関数を定義（以下にコードを書いてください）\n",
        "def printstars(x):\n",
        "  print('*' * x)\n",
        "\n",
        "x = 5\n",
        "printstars(x)"
      ],
      "execution_count": null,
      "outputs": []
    },
    {
      "cell_type": "markdown",
      "metadata": {
        "id": "AbYyiy6BFqWW"
      },
      "source": [
        "###【解説】なぜ関数を使うのか？\n",
        "\n",
        "この例では，関数を使うコードの方が記述量が多くメリットが感じられないかも知れない．しかし，実際のプログラムでは，同じ計算を何度も行うことがよくあり，その度に台形の公式を書くよりも，関数として定義しておきそれを呼ぶようにした方が，記述量が少なくなる．\n",
        "\n",
        "また，もし関数を使わなければ，台形の公式を記憶違いした場合にその計算をしているすべての箇所を修正する必要があるが，関数を使っていれば，その関数内の式のみを書き直せば済む．\n",
        "\n",
        "誰かが作ってくれた関数trapez()が存在すれば，台形の面積の公式を知らない人でも，trapez()関数を呼ぶだけで面積を得ることができる，というメリットも非常に重要．"
      ]
    },
    {
      "cell_type": "markdown",
      "metadata": {
        "id": "OhsGCoaJWukS"
      },
      "source": [
        "###【演習1】\n",
        "以下の①～④に書かれた関数を作成してプログラムを完成させよう．\n",
        "\n",
        "**① 円の面積を求める関数を定義しよう**\n",
        "\n",
        "* 関数名：circle\n",
        "* 引数：変数x\n",
        "* 戻り値：半径xの円の面積"
      ]
    },
    {
      "cell_type": "code",
      "metadata": {
        "id": "v1jA1EgbXPm5"
      },
      "source": [
        "# 関数を定義（以下にコードを書いてください）\n",
        "\n",
        "\n",
        "\n",
        "x = 3 \n",
        "menseki =   #関数circle()を使う\n",
        "print(menseki)"
      ],
      "execution_count": null,
      "outputs": []
    },
    {
      "cell_type": "markdown",
      "metadata": {
        "id": "X0fPQu3rrfGp"
      },
      "source": [
        "**② 2つの整数aとbを比較して，大きい方の値を抽出する**\n",
        "\n",
        "* 関数名：comp\n",
        "* 引数：変数a，変数b\n",
        "* 戻り値：aとbのうち，大きい方の値"
      ]
    },
    {
      "cell_type": "code",
      "metadata": {
        "id": "HqihiyfUrvhv"
      },
      "source": [
        "# 関数を定義（以下にコードを書いてください）\n",
        "\n",
        "\n",
        "\n",
        "a = 10\n",
        "b = 4\n",
        "larger =   #関数comp()を使う\n",
        "print(larger)"
      ],
      "execution_count": null,
      "outputs": []
    },
    {
      "cell_type": "markdown",
      "metadata": {
        "id": "-QgW-7fbhIIp"
      },
      "source": [
        "**③ 整数aが奇数の時はodd，偶数の時はevenと表示する**\n",
        "* 関数名：hantei\n",
        "* 引数：変数a\n",
        "* 戻り値：文字列（oddかeven）"
      ]
    },
    {
      "cell_type": "code",
      "metadata": {
        "id": "OqIeMT8dh1XY"
      },
      "source": [
        "# 関数を定義（以下にコードを書いてください）\n",
        "\n",
        "\n",
        "\n",
        "a = 7\n",
        "kekka =   # 関数hantei()を使う\n",
        "print(kekka)  #括弧内にコードを書いてください"
      ],
      "execution_count": null,
      "outputs": []
    },
    {
      "cell_type": "markdown",
      "metadata": {
        "id": "az_fhCDuquWn"
      },
      "source": [
        "**④ アルファベットをaから順にn（引数）個表示する（例えば， n=7 なら abcdefg を表示する）**\n",
        "* 関数名：n_alpha\n",
        "* 引数：変数n\n",
        "* 戻り値：無し"
      ]
    },
    {
      "cell_type": "code",
      "metadata": {
        "id": "dxac3SZSquWp"
      },
      "source": [
        "# 関数を定義（以下にコードを書いてください）\n",
        "\n",
        "\n",
        "\n",
        "n_alpha(7)"
      ],
      "execution_count": null,
      "outputs": []
    },
    {
      "cell_type": "markdown",
      "metadata": {
        "id": "X6a51-VAWysX"
      },
      "source": [
        "---\n",
        "## 位置引数とキーワード引数"
      ]
    },
    {
      "cell_type": "markdown",
      "metadata": {
        "id": "nXetH7cEHdma"
      },
      "source": [
        "###【例題2】\n",
        "\n",
        "上の台形の面積のプログラム："
      ]
    },
    {
      "cell_type": "code",
      "metadata": {
        "id": "-48zobBZJsCr"
      },
      "source": [
        "def trapez(upper, lower, height):\n",
        "  area = (upper+lower) * height / 2\n",
        "  return area\n",
        "\n",
        "menseki = trapez(3, 5, 4)\n",
        "print(menseki)"
      ],
      "execution_count": null,
      "outputs": []
    },
    {
      "cell_type": "markdown",
      "metadata": {
        "id": "Nym_hmrFJtbP"
      },
      "source": [
        "5行目で関数trapez()を呼んでいるが，引数を「上底」・「下底」・「高さ」順に書くことを知らなければ，正しい計算結果を得ることはできない．このような引数の与え方を「**位置引数**」という．\n",
        "\n",
        "一方で，以下の例のように，引数名を指定する方法もあり，これを「**キーワード引数**」という．キーワード引数の場合は，引数の順番は問題とならない．"
      ]
    },
    {
      "cell_type": "code",
      "metadata": {
        "id": "nDV8LaNIK0YU"
      },
      "source": [
        "def trapez(upper, lower, height):\n",
        "  area = (upper+lower) * height / 2\n",
        "  return area\n",
        "\n",
        "menseki = trapez(upper=3, lower=5, height=4)   #キーワード引数\n",
        "print(menseki)"
      ],
      "execution_count": null,
      "outputs": []
    },
    {
      "cell_type": "code",
      "metadata": {
        "id": "PsFVUhnPK5Rc"
      },
      "source": [
        "def trapez(upper, lower, height):\n",
        "  area = (upper+lower) * height / 2\n",
        "  return area\n",
        "\n",
        "menseki = trapez(height=4, lower=5, upper=3)   #キーワード引数は順序が違っても構わない\n",
        "print(menseki)"
      ],
      "execution_count": null,
      "outputs": []
    },
    {
      "cell_type": "markdown",
      "metadata": {
        "id": "ISTNehBNLIg4"
      },
      "source": [
        "つまり，関数を呼ぶときには，**引数の順番を知っておく**か，**各引数のキーワード名を知っておく**かのいずれかが必要．"
      ]
    },
    {
      "cell_type": "markdown",
      "metadata": {
        "id": "YBk9uV4rYYE7"
      },
      "source": [
        "###【演習2】\n",
        "引数として First/middle/last name を与えるとフルネーム（例． Taro Python Ichidai）を表示するプログラムを作ろう．位置引数バージョンとキーワード引数バージョンの2通りで作ろう．\n",
        "\n",
        "* 関数名：fullname\n",
        "* 引数：変数first, middle, last\n",
        "* 戻り値：無し"
      ]
    },
    {
      "cell_type": "code",
      "metadata": {
        "id": "o2_2_Z4yL59f"
      },
      "source": [
        "# 位置引数バージョン\n",
        "\n",
        "\n"
      ],
      "execution_count": null,
      "outputs": []
    },
    {
      "cell_type": "code",
      "metadata": {
        "id": "rDlorbh6NWS1"
      },
      "source": [
        "# キーワード引数バージョン\n",
        "\n",
        "\n"
      ],
      "execution_count": null,
      "outputs": []
    },
    {
      "cell_type": "markdown",
      "metadata": {
        "id": "qSnf3NYlbg6r"
      },
      "source": [
        "---\n",
        "## 引数のデフォルト値\n",
        "\n"
      ]
    },
    {
      "cell_type": "markdown",
      "metadata": {
        "id": "PIJF4nOnbmN1"
      },
      "source": [
        "###【例題3】\n",
        "実引数の省略で，デフォルト値を利用"
      ]
    },
    {
      "cell_type": "code",
      "metadata": {
        "id": "0jAbFJxrcR39"
      },
      "source": [
        "def happyset(main='burger', side='potato', drink='apple', toy='pokemon'):\n",
        "  print(main + ' ' + side + ' ' + drink + ' ' + toy)\n",
        "\n",
        "happyset()\n",
        "happyset('nuget')\n",
        "happyset(drink='orange')\n",
        "happyset('pancake', 'corn', toy='book')"
      ],
      "execution_count": null,
      "outputs": []
    },
    {
      "cell_type": "markdown",
      "metadata": {
        "id": "ZqswNRfIdh8m"
      },
      "source": [
        "###【演習3】\n",
        "* まず，半径 radius と円周率 pi を引数として，円の面積を返す関数 circle2 を作成しよう．たたし，円周率 pi のデフォルト値は 3.14 とすること．\n",
        "* この関数 circle2 を使って，半径8の円の面積を求めよう．\n",
        "* 引数 pi に 3 を代入して，円周率を3とした際の半径8の円の面積を求めよう．"
      ]
    },
    {
      "cell_type": "code",
      "metadata": {
        "id": "itqPYkf_TC_H"
      },
      "source": [
        "# 以下にコードを書いてください\n",
        "\n",
        "\n"
      ],
      "execution_count": null,
      "outputs": []
    },
    {
      "cell_type": "markdown",
      "metadata": {
        "id": "i8mcs1Lwohm2"
      },
      "source": [
        "---\n",
        "##スコープ\n",
        "\n",
        "名前（変数名や関数名など）が使用できる範囲は？"
      ]
    },
    {
      "cell_type": "markdown",
      "metadata": {
        "id": "cCbJjpyIolf_"
      },
      "source": [
        "###【例題4】\n",
        "変数の種類とスコープ\n",
        "* ローカル変数：関数の中だけで有効\n",
        "* グローバル変数：関数の中でも外でも有効\n"
      ]
    },
    {
      "cell_type": "markdown",
      "metadata": {
        "id": "383mo7XpXpyA"
      },
      "source": [
        "関数内のローカル変数"
      ]
    },
    {
      "cell_type": "code",
      "metadata": {
        "id": "1cHOGGj3WwyX"
      },
      "source": [
        "def f():\n",
        "  text = 'Good morning'    # 関数fのローカル変数textを作成\n",
        "  print('f():', text)  \n",
        "\n",
        "text = 'Hello'   #グローバル変数textを作成\n",
        "f()\n",
        "print(text)"
      ],
      "execution_count": null,
      "outputs": []
    },
    {
      "cell_type": "markdown",
      "metadata": {
        "id": "6KjsNI5WiHWS"
      },
      "source": [
        "関数内のグローバル変数"
      ]
    },
    {
      "cell_type": "code",
      "metadata": {
        "id": "vsqKE0iGYdm4"
      },
      "source": [
        "def f():\n",
        "  global text     # global文でグローバル変数textを指定\n",
        "  text = 'Good morning'    # グローバル変数textに代入\n",
        "  print('f():', text)  \n",
        "\n",
        "text = 'Hello'   #グローバル変数textを作成\n",
        "f()\n",
        "print(text)"
      ],
      "execution_count": null,
      "outputs": []
    },
    {
      "cell_type": "markdown",
      "metadata": {
        "id": "pTht1bGSsdls"
      },
      "source": [
        "###【演習4】\n",
        "ありません．"
      ]
    },
    {
      "cell_type": "markdown",
      "metadata": {
        "id": "fhXRPJeAnFPy"
      },
      "source": [
        "---\n",
        "##キーボード入力の受け取り (input)\n",
        "\n"
      ]
    },
    {
      "cell_type": "markdown",
      "metadata": {
        "id": "w2r4slq5ou-W"
      },
      "source": [
        "###【例題5】\n",
        "input関数を使うと，プログラム実行時にキーボード入力を受け付けて，そこで入力された値を処理することができます．"
      ]
    },
    {
      "cell_type": "code",
      "metadata": {
        "id": "INOqk6JpnW5r"
      },
      "source": [
        "a = input('好きな文字を入力してEnterを押してください > ')\n",
        "print(a)"
      ],
      "execution_count": null,
      "outputs": []
    },
    {
      "cell_type": "markdown",
      "metadata": {
        "id": "kxQVYjDmnjNe"
      },
      "source": [
        "入力された内容の「型」を確認してみよう．"
      ]
    },
    {
      "cell_type": "markdown",
      "metadata": {
        "id": "VC9r9FZLntk2"
      },
      "source": [
        ""
      ]
    },
    {
      "cell_type": "code",
      "metadata": {
        "id": "61xoRJr9nhPK"
      },
      "source": [
        "a = input('好きな文字を入力してEnterを押してください > ')\n",
        "type(a)"
      ],
      "execution_count": null,
      "outputs": []
    },
    {
      "cell_type": "markdown",
      "metadata": {
        "id": "ZyS-weVynxyn"
      },
      "source": [
        "入力された文字列を数値として処理したければ，int()関数やfloat()関数を使おう．"
      ]
    },
    {
      "cell_type": "code",
      "metadata": {
        "id": "lLoeLABBnxkj"
      },
      "source": [
        "a = input('1つ目の数字を入力してください > ')\n",
        "b = input('2つ目の数字を入力してください > ')\n",
        "c = int(a) + int(b)\n",
        "print('2つの数字の和は', c, 'です')"
      ],
      "execution_count": null,
      "outputs": []
    },
    {
      "cell_type": "markdown",
      "metadata": {
        "id": "khDbTqXToaI2"
      },
      "source": [
        "###【演習5】\n",
        "以下のように，上底・下底・高さを順にキーボード入力すると，そのような台形の面積を返すプログラムを作成してください．関数を使うこと．なお，実行例で3, 5, 4はキーボード入力，それ以外はプログラムにより表示されるものです．\n",
        "```\n",
        "上底：3\n",
        "下底：5\n",
        "高さ：4\n",
        "この台形の面積は 16.0 です\n",
        "```"
      ]
    },
    {
      "cell_type": "code",
      "metadata": {
        "id": "IHjuYiepopJS"
      },
      "source": [
        "# 以下にコードを書いてください\n",
        "\n",
        "\n"
      ],
      "execution_count": null,
      "outputs": []
    },
    {
      "cell_type": "markdown",
      "metadata": {
        "id": "LMkyxl-8naed"
      },
      "source": [
        "---\n",
        "##力試し"
      ]
    },
    {
      "cell_type": "markdown",
      "metadata": {
        "id": "Y9bmedf7pA6j"
      },
      "source": [
        "###【演習6】\n",
        "以下の例のように，まず商品の金額をキーボード入力すると，「店内(T)」か「持帰り(M)」かを聞かれ，Tなら消費税10％，Mなら消費税8％として税込金額を表示するプログラムを作ろう．\n",
        "\n",
        "ただし，以下の条件を満たすこと．\n",
        "\n",
        "* 税抜金額と消費税率を引数として税込金額を返す関数 zeikomi(price, rate) を作成して用いること．\n",
        "* 税込金額は小数点以下は切り捨てること．\n",
        "* 店内・持帰りの質問でT,M以外が入力された場合は，「プログラムを終了します」と表示すること．\n",
        "\n",
        "```\n",
        "商品の金額：500\n",
        "店内ならT，持帰りならMと入力してください：T\n",
        "税込金額は 550 です\n",
        "```\n",
        "\n",
        "```\n",
        "商品の金額：400\n",
        "店内ならT，持帰りならMと入力してください：M\n",
        "税込金額は 432 です\n",
        "```\n",
        "\n",
        "```\n",
        "商品の金額：300\n",
        "店内ならT，持帰りならMと入力してください：A\n",
        "プログラムを終了します\n",
        "```\n"
      ]
    },
    {
      "cell_type": "code",
      "metadata": {
        "id": "VMdHbAt5ovp1"
      },
      "source": [
        "# 以下にコードを書いてください\n",
        "\n",
        "\n"
      ],
      "execution_count": null,
      "outputs": []
    },
    {
      "cell_type": "markdown",
      "metadata": {
        "id": "UGPoTxZ73tPx"
      },
      "source": [
        "---\n",
        "以上の課題が完了したら，以下の作業を行うこと．\n",
        "\n",
        "1. メニューの「ファイル」-「ドライブにコピーを保存」を選択し，自分のGoogleドライブに課題を保存する．\n",
        "2. メニューの「ファイル」-「ダウンロード」-「.ipynbファイルをダウンロード」を選択し，提出用の課題ファイル(kadai05.ipynb)をダウンロードする．\n",
        "3. ファイル名を「(学籍番号)-05.ipynb」(学籍番号が2120999なら 2120999-05.ipynb）に変更し，WebClassに提出．\n",
        "\n"
      ]
    }
  ]
}