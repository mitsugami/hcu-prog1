{
  "nbformat": 4,
  "nbformat_minor": 0,
  "metadata": {
    "colab": {
      "name": "kadai02.ipynb",
      "provenance": [],
      "collapsed_sections": [],
      "include_colab_link": true
    },
    "kernelspec": {
      "name": "python3",
      "display_name": "Python 3"
    },
    "language_info": {
      "name": "python"
    }
  },
  "cells": [
    {
      "cell_type": "markdown",
      "metadata": {
        "id": "view-in-github",
        "colab_type": "text"
      },
      "source": [
        "<a href=\"https://colab.research.google.com/github/mitsugami/python_course/blob/main/kadai02.ipynb\" target=\"_parent\"><img src=\"https://colab.research.google.com/assets/colab-badge.svg\" alt=\"Open In Colab\"/></a>"
      ]
    },
    {
      "cell_type": "markdown",
      "metadata": {
        "id": "l-bYbmjqal79"
      },
      "source": [
        "#プログラミングⅠ演習 第2回課題\n",
        "\n",
        "教科書: 4.4節, 5章 (p.64-88)\n",
        "\n",
        "参考: https://www.python.jp/train/index.html の以下のトピック\n",
        "\n",
        "* オブジェクトとリスト\n",
        "* 辞書オブジェクト\n",
        "* タプルとコレクション\n"
      ]
    },
    {
      "cell_type": "markdown",
      "metadata": {
        "id": "UE3nv2Vka_EI"
      },
      "source": [
        "---\n",
        "##Sec 04-04 インデクスとスライス"
      ]
    },
    {
      "cell_type": "markdown",
      "metadata": {
        "id": "c_UjETl0csHu"
      },
      "source": [
        "【例題1】文字や文字列を取り出す"
      ]
    },
    {
      "cell_type": "code",
      "metadata": {
        "id": "K4hRmh7pkLDg"
      },
      "source": [
        "x = 'grapefruit'\n",
        "print(x[2])\n",
        "print(x[5:10])"
      ],
      "execution_count": null,
      "outputs": []
    },
    {
      "cell_type": "markdown",
      "metadata": {
        "id": "0j3UZYgxkLVb"
      },
      "source": [
        "【演習1】コードを完成させて，指定された文字や文字列を取り出し表示しよう"
      ]
    },
    {
      "cell_type": "markdown",
      "metadata": {
        "id": "Uxxz5HG5dNOe"
      },
      "source": [
        "① 文字列strawberryから，文字aを取り出す"
      ]
    },
    {
      "cell_type": "code",
      "metadata": {
        "id": "Xhs8UGqHdMtD"
      },
      "source": [
        "a = 'strawberry'\n",
        "print() #括弧内にコードを追記してください"
      ],
      "execution_count": null,
      "outputs": []
    },
    {
      "cell_type": "markdown",
      "metadata": {
        "id": "2P1XAcYAep2y"
      },
      "source": [
        "② 文字列hot chocolateから，文字列chocolateを取り出す（開始インデクス・終了インデクスを指定）"
      ]
    },
    {
      "cell_type": "code",
      "metadata": {
        "id": "ss1X79uEW9NE"
      },
      "source": [
        "b ='hot chocolate'\n",
        "print() #括弧内にコードを追記してください"
      ],
      "execution_count": null,
      "outputs": []
    },
    {
      "cell_type": "markdown",
      "metadata": {
        "id": "UFUYdmOWvDSi"
      },
      "source": [
        "③ 文字列hot chocolateから，文字列chocolateを取り出す（開始インデクスか終了インデクスのどちらかを指定）"
      ]
    },
    {
      "cell_type": "code",
      "metadata": {
        "id": "FieOZNZ_47Yk"
      },
      "source": [
        "b ='hot chocolate'\n",
        "print() #括弧内にコードを追記してください"
      ],
      "execution_count": null,
      "outputs": []
    },
    {
      "cell_type": "markdown",
      "metadata": {
        "id": "wUXAuT3r4_tz"
      },
      "source": [
        "④文字列hot chocolateから，文字列hotを取り出す（開始インデクスか終了インデクスのどちらかを指定）"
      ]
    },
    {
      "cell_type": "code",
      "metadata": {
        "id": "qTCuPggP5FMj"
      },
      "source": [
        "b ='hot chocolate'\n",
        "print() #括弧内にコードを追記してください"
      ],
      "execution_count": null,
      "outputs": []
    },
    {
      "cell_type": "markdown",
      "metadata": {
        "id": "aT2rBeA_auc4"
      },
      "source": [
        "---\n",
        "##Sec 05-01 リスト"
      ]
    },
    {
      "cell_type": "markdown",
      "metadata": {
        "id": "CeRsnlOZYRdx"
      },
      "source": [
        "【例題2】リストを初期化し，要素の一部を取り出す"
      ]
    },
    {
      "cell_type": "code",
      "metadata": {
        "id": "JHeDaP2hYK1z"
      },
      "source": [
        "language = ['Japanese', 'English', 'French', 'German']\n",
        "print(language[0])\n",
        "print(language[2:])"
      ],
      "execution_count": null,
      "outputs": []
    },
    {
      "cell_type": "markdown",
      "metadata": {
        "id": "dyQaRnzYZ8Gq"
      },
      "source": [
        "【演習2】コードを完成させて，指定された要素を表示しよう"
      ]
    },
    {
      "cell_type": "markdown",
      "metadata": {
        "id": "eeqrWAwW5jOE"
      },
      "source": [
        "①appleとorangeを表示する（開始インデクス・終了インデクスを指定）"
      ]
    },
    {
      "cell_type": "code",
      "metadata": {
        "id": "L5mdhWpfZ_lb"
      },
      "source": [
        "fruits = ['banana', 'apple', 'orange', 'grape']\n",
        "print() #括弧内にコードを追記してください"
      ],
      "execution_count": null,
      "outputs": []
    },
    {
      "cell_type": "markdown",
      "metadata": {
        "id": "qsCM5P6C5p5w"
      },
      "source": [
        "②orangeを表示する（開始インデクス・終了インデクスを指定）"
      ]
    },
    {
      "cell_type": "code",
      "metadata": {
        "id": "Rtl5MBvy6Ban"
      },
      "source": [
        "fruits = ['banana', 'apple', 'orange', 'grape']\n",
        "print() #括弧内にコードを追記してください"
      ],
      "execution_count": null,
      "outputs": []
    },
    {
      "cell_type": "markdown",
      "metadata": {
        "id": "37lHGgCC6CkH"
      },
      "source": [
        "③orangeを表示する（開始インデクス・終了インデクス・ステップを指定）"
      ]
    },
    {
      "cell_type": "code",
      "metadata": {
        "id": "gUkN7o7B6RQb"
      },
      "source": [
        "fruits = ['banana', 'apple', 'orange', 'grape']\n",
        "print() #括弧内にコードを追記してください"
      ],
      "execution_count": null,
      "outputs": []
    },
    {
      "cell_type": "markdown",
      "metadata": {
        "id": "vk9ZArL_6PED"
      },
      "source": [
        "④orangeとgrapeを表示する（開始インデクスか終了インデクスのどちらかを指定）"
      ]
    },
    {
      "cell_type": "code",
      "metadata": {
        "id": "8UNmalEq6d99"
      },
      "source": [
        "fruits = ['banana', 'apple', 'orange', 'grape']\n",
        "print() #括弧内にコードを追記してください"
      ],
      "execution_count": null,
      "outputs": []
    },
    {
      "cell_type": "markdown",
      "metadata": {
        "id": "Qm-rh4MGzk1i"
      },
      "source": [
        "【例題3】リストの要素を操作する\n",
        "\n",
        "| 記述 | 機能 |\n",
        "|----|----|\n",
        "| リスト.append(値) | リストの末尾に要素を追加 |\n",
        "| リスト.insert(インデクス, 値) | 指定した位置に要素を追加 |\n",
        "| リスト.remove(値) | 指定した値を持つ最初の要素を削除 |\n",
        "| len(リスト) | 要素数を取得 |"
      ]
    },
    {
      "cell_type": "code",
      "metadata": {
        "id": "7cxn18HlknFp"
      },
      "source": [
        "language = ['Japanese', 'English', 'French', 'German']\n",
        "language.append('Chinese')\n",
        "print(language)\n",
        "language.insert(3, 'Spanish')\n",
        "print(language)\n",
        "language.remove('English')\n",
        "print(language)"
      ],
      "execution_count": null,
      "outputs": []
    },
    {
      "cell_type": "markdown",
      "metadata": {
        "id": "CggIGw14y-ci"
      },
      "source": [
        "【演習3】以下の手順で，リストの要素を操作しよう\n",
        "1. cherryをappleの後ろに追加\n",
        "2. orangeを削除"
      ]
    },
    {
      "cell_type": "code",
      "metadata": {
        "id": "5jiJju8xzRgU"
      },
      "source": [
        "fruits = ['banana', 'apple', 'orange', 'grape']\n",
        "fruits. #この行にコードを追記してください\n",
        "print(fruits)\n",
        "fruits. #この行にコードを追記してください\n",
        "print(fruits)"
      ],
      "execution_count": null,
      "outputs": []
    },
    {
      "cell_type": "markdown",
      "metadata": {
        "id": "XRb_zI4D0uLN"
      },
      "source": [
        "---\n",
        "##Sec 05-02 タプル"
      ]
    },
    {
      "cell_type": "markdown",
      "metadata": {
        "id": "PrbAFW5y04Fi"
      },
      "source": [
        "【例題4-1】タプルを初期化し，要素の一部を取り出す"
      ]
    },
    {
      "cell_type": "code",
      "metadata": {
        "id": "5QOuAS7a051L"
      },
      "source": [
        "language = ('Japanese', 'English', 'French', 'German')\n",
        "print(language[0])\n",
        "print(language[2:])"
      ],
      "execution_count": null,
      "outputs": []
    },
    {
      "cell_type": "markdown",
      "metadata": {
        "id": "NSyKrk8x1M1t"
      },
      "source": [
        "【例題4-2】パックとアンパック"
      ]
    },
    {
      "cell_type": "code",
      "metadata": {
        "id": "WqZWrSUk1M1t"
      },
      "source": [
        "x = 'Spanish', 1\n",
        "print(x)\n",
        "language, level = x\n",
        "print(language)\n",
        "print(level)"
      ],
      "execution_count": null,
      "outputs": []
    },
    {
      "cell_type": "markdown",
      "metadata": {
        "id": "2y9EN5szvdp5"
      },
      "source": [
        "---\n",
        "##Sec 05-03 集合"
      ]
    },
    {
      "cell_type": "markdown",
      "metadata": {
        "id": "N9T1yUBAvo6p"
      },
      "source": [
        "【例題5-1】集合を初期化した後，要素の追加と削除を行う"
      ]
    },
    {
      "cell_type": "code",
      "metadata": {
        "id": "NP42eDqIvnmt"
      },
      "source": [
        "language = {'Japanese', 'English', 'French', 'German'}\n",
        "print(language)\n",
        "language |= {'Chinese'}\n",
        "print(language)\n",
        "language -= {'French', 'German'}\n",
        "print(language)"
      ],
      "execution_count": null,
      "outputs": []
    },
    {
      "cell_type": "markdown",
      "metadata": {
        "id": "rLpjJM-hyvca"
      },
      "source": [
        "【例題5-2】集合に要素が存在するか判定する"
      ]
    },
    {
      "cell_type": "code",
      "metadata": {
        "id": "osCYpmhfy3sL"
      },
      "source": [
        "language = {'Japanese', 'English', 'French', 'German'}\n",
        "print('Japanese' in language)\n",
        "print('Japan' in language)"
      ],
      "execution_count": null,
      "outputs": []
    },
    {
      "cell_type": "markdown",
      "metadata": {
        "id": "rG6YURdZzIGN"
      },
      "source": [
        "【演習5】以下の手順で，集合を操作しよう\n",
        "1. cherryを追加\n",
        "2. orangeを削除\n",
        "3. kiwiが集合に含まれるか判定"
      ]
    },
    {
      "cell_type": "code",
      "metadata": {
        "id": "rYaTBX9WzHYa"
      },
      "source": [
        "fruits = {'banana', 'apple', 'orange', 'grape'}\n",
        "fruits  #この行にコードを追記してください\n",
        "print(fruits)\n",
        "fruits  #この行にコードを追記してください\n",
        "print(fruits)\n",
        "print()  #括弧内にコードを追記してください"
      ],
      "execution_count": null,
      "outputs": []
    },
    {
      "cell_type": "markdown",
      "metadata": {
        "id": "oKdJjOtYzo9z"
      },
      "source": [
        "---\n",
        "##Sec 05-04 辞書"
      ]
    },
    {
      "cell_type": "markdown",
      "metadata": {
        "id": "rjjj3iJYzySK"
      },
      "source": [
        "【例題6-1】辞書を初期化した後，要素の追加・変更・削除を行う"
      ]
    },
    {
      "cell_type": "code",
      "metadata": {
        "id": "LeBrcGtOz8Qb"
      },
      "source": [
        "language = {'ja':'Japanese', 'en':'English', 'fr':'French'}\n",
        "language['ge'] = 'Chinese'\n",
        "print(language)\n",
        "language['ge'] = 'German'\n",
        "print(language)\n",
        "del language['fr']\n",
        "print(language)"
      ],
      "execution_count": null,
      "outputs": []
    },
    {
      "cell_type": "markdown",
      "metadata": {
        "id": "5lrZoDir1adD"
      },
      "source": [
        "【例題6-2】辞書に要素が存在するか判定する"
      ]
    },
    {
      "cell_type": "code",
      "metadata": {
        "id": "10nd5URX1_oa"
      },
      "source": [
        "language = {'ja':'Japanese', 'en':'English', 'fr':'French'}\n",
        "print('ja' in language)\n",
        "print('ja' not in language)\n",
        "print('ge' not in language)"
      ],
      "execution_count": null,
      "outputs": []
    },
    {
      "cell_type": "markdown",
      "metadata": {
        "id": "6MAYhxmw2SgD"
      },
      "source": [
        "【演習6】以下の手順で，辞書を操作しよう\n",
        "1. D:doctorを追加\n",
        "2. Bを削除\n",
        "3. Mが集合に含まれるか判定"
      ]
    },
    {
      "cell_type": "code",
      "metadata": {
        "id": "_JPmkd803pWj"
      },
      "source": [
        "grade = {'B': 'bachelor', 'M': 'master'}\n",
        "grade  #この行にコードを追記してください\n",
        "print(grade)\n",
        "del  #この行にコードを追記してください\n",
        "print(grade)\n",
        "print()  #括弧内にコードを追記してください"
      ],
      "execution_count": null,
      "outputs": []
    },
    {
      "cell_type": "markdown",
      "metadata": {
        "id": "UGPoTxZ73tPx"
      },
      "source": [
        "---\n",
        "以上の課題が完了したら，以下の作業を行うこと．\n",
        "\n",
        "1. メニューの「ファイル」-「ドライブにコピーを保存」を選択し，自分のGoogleドライブに課題を保存する．\n",
        "2. メニューの「ファイル」-「ダウンロード」-「.ipynbファイルをダウンロード」を選択し，提出用の課題ファイル(kadai02.ipynb)をダウンロードする．\n",
        "3. ファイル名を「(学籍番号)-02.ipynb」(学籍番号が2120999なら 2120999-02.ipynb）に変更し，WebClassに提出．\n",
        "\n"
      ]
    }
  ]
}