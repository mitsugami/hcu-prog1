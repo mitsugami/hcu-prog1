{
  "nbformat": 4,
  "nbformat_minor": 0,
  "metadata": {
    "colab": {
      "name": "kadai00.ipynb",
      "provenance": [],
      "collapsed_sections": [],
      "authorship_tag": "ABX9TyO3QTYwgQot2Lq99si/WBb4",
      "include_colab_link": true
    },
    "kernelspec": {
      "name": "python3",
      "display_name": "Python 3"
    },
    "language_info": {
      "name": "python"
    }
  },
  "cells": [
    {
      "cell_type": "markdown",
      "metadata": {
        "id": "view-in-github",
        "colab_type": "text"
      },
      "source": [
        "<a href=\"https://colab.research.google.com/github/mitsugami/python_course/blob/main/kadai00.ipynb\" target=\"_parent\"><img src=\"https://colab.research.google.com/assets/colab-badge.svg\" alt=\"Open In Colab\"/></a>"
      ]
    },
    {
      "cell_type": "markdown",
      "metadata": {
        "id": "xz1dn1wo-EYx"
      },
      "source": [
        "#プログラミングⅠ 第0回課題"
      ]
    },
    {
      "cell_type": "markdown",
      "metadata": {
        "id": "P5dtA1KF7Acc"
      },
      "source": [
        "##簡単な算術計算\n",
        "CodeセルにPythonの式を入力して，プレイボタンを押すか，Shiftを押しながらEnterを押すと，式が評価され，その結果の値がセルの下に挿入されます．\n",
        "\n",
        "1+1 の計算をしてみましょう．次のセルに 1+1 と入力して， Shiftを押しながらEnterを押してください．"
      ]
    },
    {
      "cell_type": "code",
      "metadata": {
        "id": "IKGgcN_k69Le"
      },
      "source": [
        "1+1"
      ],
      "execution_count": null,
      "outputs": []
    },
    {
      "cell_type": "markdown",
      "metadata": {
        "id": "ZltwwEKV7Zru"
      },
      "source": [
        "##基本演算子\n",
        "\n",
        "| 演算 | 演算子 |\n",
        "|----|----|\n",
        "| 加算 | + |\n",
        "| 減算 | - |\n",
        "| 乗算 | * |\n",
        "| 除算 | / |\n",
        "| 整数の除算の商 | // |\n",
        "| 整数の除算の余り | % |\n",
        "| べき乗 | ** |\n",
        "\n",
        "下のセルにさまざまな式を書き，各演算子の動作を確認しましょう．"
      ]
    },
    {
      "cell_type": "code",
      "metadata": {
        "id": "0kx0f1l17l8D"
      },
      "source": [
        ""
      ],
      "execution_count": null,
      "outputs": []
    },
    {
      "cell_type": "markdown",
      "metadata": {
        "id": "gTLTPUX33230"
      },
      "source": [
        "## csvファイルの読み込み"
      ]
    },
    {
      "cell_type": "markdown",
      "metadata": {
        "id": "L2dddL_iSUPr"
      },
      "source": [
        "サンプルcsvファイルのダウンロード"
      ]
    },
    {
      "cell_type": "code",
      "metadata": {
        "id": "NPpxkr-x2uPx"
      },
      "source": [
        "!wget http://www.sys.info.hiroshima-cu.ac.jp/tmp/temp.csv"
      ],
      "execution_count": null,
      "outputs": []
    },
    {
      "cell_type": "markdown",
      "metadata": {
        "id": "ikJmTSNZSXp-"
      },
      "source": [
        "csvファイルを読み込んで表示しましょう．"
      ]
    },
    {
      "cell_type": "code",
      "metadata": {
        "id": "6A1940pkRq1H"
      },
      "source": [
        "import csv\n",
        "\n",
        "with open('temp.csv') as f:\n",
        "    print(f.read())\n"
      ],
      "execution_count": null,
      "outputs": []
    }
  ]
}