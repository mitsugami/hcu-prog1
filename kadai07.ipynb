{
  "nbformat": 4,
  "nbformat_minor": 0,
  "metadata": {
    "colab": {
      "name": "kadai07.ipnb",
      "provenance": [],
      "collapsed_sections": [],
      "include_colab_link": true
    },
    "kernelspec": {
      "name": "python3",
      "display_name": "Python 3"
    },
    "language_info": {
      "name": "python"
    }
  },
  "cells": [
    {
      "cell_type": "markdown",
      "metadata": {
        "id": "view-in-github",
        "colab_type": "text"
      },
      "source": [
        "<a href=\"https://colab.research.google.com/github/mitsugami/python_course/blob/main/kadai07.ipynb\" target=\"_parent\"><img src=\"https://colab.research.google.com/assets/colab-badge.svg\" alt=\"Open In Colab\"/></a>"
      ]
    },
    {
      "cell_type": "markdown",
      "metadata": {
        "id": "l-bYbmjqal79"
      },
      "source": [
        "#プログラミングⅠ演習 第7回課題<br>（中間まとめ試験シミュレーション）\n",
        "\n",
        "**試験時間：13:10～14:30**\n",
        "\n",
        "\n",
        "* 以下の 問1 から 問6 で指示されたコードを記述せよ．\n",
        "\n",
        "* 「内包表記により」など問題文中で指定されない限り，実現方法は問わない．ただし，表示結果例をそのままprint関数により表示することは認めない．\n",
        "\n",
        "* 書いたコードは，何度も実行して動作結果を確認して構わない．採点時にはコードを再実行するため，提出ファイルには実行結果はあってもなくても構わない．（つまり記入されたコードのみが採点対象となる．）\n"
      ]
    },
    {
      "cell_type": "markdown",
      "metadata": {
        "id": "ulUxEKDGfrt-"
      },
      "source": [
        "---\n",
        "##問1\n",
        "①～④の計算結果を表示するプログラムを作成せよ．プログラムは複数行になってもよく，if/for/while等の制御構文やリスト・辞書などのデータ構造も自由に使って構わない．ただし，手計算した結果の数値を単にprint関数等によって表示するのは認めない．\n",
        "\n",
        "必要ならば，組み込み関数 sum() を用いてよい． sum() は引数で与えられたリストの要素の合計を返す組み込み関数である．"
      ]
    },
    {
      "cell_type": "markdown",
      "metadata": {
        "id": "C67pTJ26dJNq"
      },
      "source": [
        "###①\n",
        "$2^{3^2}$\n"
      ]
    },
    {
      "cell_type": "code",
      "metadata": {
        "id": "CTmz0Pk7dLBQ"
      },
      "source": [
        "# 以下にコードを記述せよ\n"
      ],
      "execution_count": null,
      "outputs": []
    },
    {
      "cell_type": "markdown",
      "metadata": {
        "id": "pDQLWDclgnV9"
      },
      "source": [
        "###②\n",
        "$2^{100}$ を 31 で割った余り．\n"
      ]
    },
    {
      "cell_type": "code",
      "metadata": {
        "id": "yQuMivH4funJ"
      },
      "source": [
        "# 以下にコードを記述せよ\n"
      ],
      "execution_count": null,
      "outputs": []
    },
    {
      "cell_type": "markdown",
      "metadata": {
        "id": "mxAaG4DZeBmL"
      },
      "source": [
        "###③\n",
        "1000以下の13の倍数の合計．"
      ]
    },
    {
      "cell_type": "code",
      "metadata": {
        "id": "DKY_841feOab"
      },
      "source": [
        "# 以下にコードを記述せよ\n"
      ],
      "execution_count": null,
      "outputs": []
    },
    {
      "cell_type": "markdown",
      "metadata": {
        "id": "IG_fIlvLkFsv"
      },
      "source": [
        "###④\n",
        "$\\frac{1}{2}+(\\frac{1}{2})^2+(\\frac{1}{2})^3+ \\cdots + (\\frac{1}{2})^{10}$"
      ]
    },
    {
      "cell_type": "code",
      "metadata": {
        "id": "miMX6I_ekTI7"
      },
      "source": [
        "# 以下にコードを記述せよ\n"
      ],
      "execution_count": null,
      "outputs": []
    },
    {
      "cell_type": "markdown",
      "metadata": {
        "id": "4E6U1Rrk9nmw"
      },
      "source": [
        "---\n",
        "##問2\n",
        "①～③のリストを**内包表記により**生成せよ．"
      ]
    },
    {
      "cell_type": "markdown",
      "metadata": {
        "id": "M-EWxcTb5vST"
      },
      "source": [
        "###①\n",
        "以下のリスト（20以下の奇数を小さい順に並べたリスト）．\n",
        "```\n",
        "[1, 3, 5, 7, 9, 11, 13, 15, 17, 19]\n",
        "```"
      ]
    },
    {
      "cell_type": "code",
      "metadata": {
        "id": "fyvEonJx5yM1"
      },
      "source": [
        "# 以下にコードを記述せよ\n"
      ],
      "execution_count": null,
      "outputs": []
    },
    {
      "cell_type": "markdown",
      "metadata": {
        "id": "Gia6pKclhVmB"
      },
      "source": [
        "###②\n",
        "以下のリスト．\n",
        "```\n",
        "['<A>', '<<A>>', '<<<A>>>', '<<<<A>>>>', '<<<<<A>>>>>']\n",
        "```"
      ]
    },
    {
      "cell_type": "code",
      "metadata": {
        "id": "AT4jqiPihYTL"
      },
      "source": [
        "# 以下にコードを記述せよ\n"
      ],
      "execution_count": null,
      "outputs": []
    },
    {
      "cell_type": "markdown",
      "metadata": {
        "id": "ZWAieXD-dgOh"
      },
      "source": [
        "###③\n",
        "以下のリスト．\n",
        "```\n",
        "['A0', 'A1', 'A2', 'A3', 'A4', 'A5', 'A6', 'A7', 'A8', 'A9']\n",
        "```"
      ]
    },
    {
      "cell_type": "code",
      "metadata": {
        "id": "Tnq58puIdrZv"
      },
      "source": [
        "# 以下にコードを記述せよ\n"
      ],
      "execution_count": null,
      "outputs": []
    },
    {
      "cell_type": "markdown",
      "metadata": {
        "id": "Jc0oghTNoSr2"
      },
      "source": [
        "---\n",
        "##問3\n",
        "中国地方の各県の面積を表す辞書 menseki がある．これを用いて，キーボードから入力された県名の面積を表示するプログラムを作成せよ．なお，中国地方の各県の名前以外の文字列が入力されることはないものとする（それ以外の文字列が入力された場合のエラー処理は不要である）．"
      ]
    },
    {
      "cell_type": "code",
      "metadata": {
        "id": "qlQEbXCpsmfy"
      },
      "source": [
        "menseki = {'Tottori':3507, 'Shimane':6708, 'Okayama':7010, 'Hiroshima':8480, 'Yamaguchi':6114}\n",
        "\n",
        "# 以下にコードを記述せよ\n",
        "\n",
        "\n"
      ],
      "execution_count": null,
      "outputs": []
    },
    {
      "cell_type": "markdown",
      "metadata": {
        "id": "fZLFUNDpl5Ok"
      },
      "source": [
        "---\n",
        "##問4\n",
        "プログラミングⅠ演習の教員名のリスト teachers がある．引数として文字列を受け取り，その文字列がこのリストに含まれれば True ，含まれなければ False を返す関数 is_teacher の定義を記述してプログラムを完成させよ．"
      ]
    },
    {
      "cell_type": "code",
      "metadata": {
        "id": "Tzo0q4ytnHoc"
      },
      "source": [
        "teachers = [ 'mitsugami', 'kajiyama', 'funasaka', 'kamidoi', 'baba', \n",
        "             'suzuki', 'takai', 'atsuumi', 'nakano', 'itoh']\n",
        "\n",
        "# 以下に関数 is_teacher の定義を記述せよ\n",
        "\n",
        "\n",
        "\n",
        "\n",
        "# 以下，結果表示用（このままにしておくこと）\n",
        "namae = input('名前を入力してください > ')\n",
        "print( is_teacher(namae) )"
      ],
      "execution_count": null,
      "outputs": []
    },
    {
      "cell_type": "markdown",
      "metadata": {
        "id": "fICEjSHJEn31"
      },
      "source": [
        "---\n",
        "##問5\n",
        "引数として2つのリストを受け取り，１つ目の引数のリストの要素がすべて２つ目引数のリストに含まれる場合は True ，そうでない場合は False を返す関数 is_included を作成し，プログラムを完成させよ．"
      ]
    },
    {
      "cell_type": "code",
      "metadata": {
        "id": "g561urlKEq7r"
      },
      "source": [
        "# 以下に関数 is_included の定義を記述せよ\n",
        "\n",
        "\n",
        "\n",
        "\n",
        "# 以下，結果表示用（このままにしておくこと）\n",
        "s = [1,2,3]\n",
        "t = [5,6,7]\n",
        "u = [1,2,3,4,5,6]\n",
        "print( is_included(s,u) )   # True\n",
        "print( is_included(t,u) )   # False"
      ],
      "execution_count": null,
      "outputs": []
    },
    {
      "cell_type": "markdown",
      "metadata": {
        "id": "oeew58FzC6vg"
      },
      "source": [
        "---\n",
        "##問6\n",
        "\n",
        "キーボードから入力された文字列(moji)に対して，以下の処理を行うプログラムを作成せよ．各コードの1行目はキーボード入力を変数mojiに格納する処理であり，これはこのまま残した上で，以降のコードを完成させること．"
      ]
    },
    {
      "cell_type": "markdown",
      "metadata": {
        "id": "XepasO91ZLcS"
      },
      "source": [
        "###①\n",
        "文字列 moji の中の母音の小文字('a', 'e', 'i', 'o', 'u')の個数を表示するプログラムを作成せよ．\n",
        "\n",
        "【実行例】\n",
        "```\n",
        "Input > I have a pen\n",
        "4\n",
        "```"
      ]
    },
    {
      "cell_type": "code",
      "metadata": {
        "id": "dDwQLgFNNAW5"
      },
      "source": [
        "moji = input('Input > ')\n",
        "\n",
        "# 以下にコードを記述せよ\n",
        "\n",
        "\n"
      ],
      "execution_count": null,
      "outputs": []
    },
    {
      "cell_type": "markdown",
      "metadata": {
        "id": "pNVcyvnSYFJi"
      },
      "source": [
        "###②\n",
        "キーボードから入力された文字列を先頭の文字から順に見ていき，はじめての 'A' のインデクスを表示するプログラムを作成せよ．文字列中に 'A' が1つも無い場合は， -1 と表示せよ．\n",
        "\n",
        "【実行例】\n",
        "```\n",
        "Input > aaaAaaaAaaaAaaa\n",
        "3\n",
        "```"
      ]
    },
    {
      "cell_type": "code",
      "metadata": {
        "id": "_RG0MzdeYETK"
      },
      "source": [
        "moji = input('Input > ')\n",
        "\n",
        "# 以下にコードを記述せよ\n",
        "\n",
        "\n"
      ],
      "execution_count": null,
      "outputs": []
    },
    {
      "cell_type": "markdown",
      "metadata": {
        "id": "x-kzvyYHYeYv"
      },
      "source": [
        "③ キーボードから入力された文字列中に最も後ろに現れる 'A' のインデクスを表示するプログラムを作成せよ．文字列中に 'A' が1つも無い場合は， -1 と表示せよ．\n",
        "\n",
        "【実行例】\n",
        "```\n",
        "Input > aaaAaaaAaaaAaaa\n",
        "11\n",
        "```"
      ]
    },
    {
      "cell_type": "code",
      "metadata": {
        "id": "2Cccu1InZis9"
      },
      "source": [
        "moji = input('Input > ')\n",
        "\n",
        "# 以下にコードを記述せよ\n",
        "\n",
        "\n"
      ],
      "execution_count": null,
      "outputs": []
    },
    {
      "cell_type": "markdown",
      "metadata": {
        "id": "UGPoTxZ73tPx"
      },
      "source": [
        "---\n",
        "##【重要】答案の提出\n",
        "以下の手順で答案を提出すること．\n",
        "\n",
        "1. メニューの「ファイル」-「ドライブにコピーを保存」を選択し，自分のGoogleドライブに課題を保存する．\n",
        "2. メニューの「ファイル」-「ダウンロード」-「.ipynbファイルをダウンロード」を選択し，提出用ファイル(kadai07.ipynb)をダウンロードする．\n",
        "3. ファイル名を「(学籍番号)-07.ipynb」(学籍番号が2120999なら 2120999-07.ipynb）に変更し，WebClassに提出する．\n",
        "\n"
      ]
    }
  ]
}